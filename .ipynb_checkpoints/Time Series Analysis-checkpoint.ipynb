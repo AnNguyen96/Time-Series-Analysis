{
 "cells": [
  {
   "cell_type": "markdown",
   "id": "8680adc8",
   "metadata": {},
   "source": [
    "# Australian Stock Prices Prediction\n",
    "\n",
    "### Author: Phuc An Nguyen \n",
    "\n",
    "**August 2023**"
   ]
  },
  {
   "cell_type": "markdown",
   "id": "52a0c4ca",
   "metadata": {},
   "source": [
    "## 1. Introduction\n",
    "\n",
    "Stock market analysis and prediction is an important part of the stock trading and investing process. The benefits from performing this analysis include: Making smart investment decisions, Investment orientation, Understand the business, Risk forecast, Investment strategy orientation and Monitor investment performance.\n",
    "\n",
    "This project will use Descriptive analysis to identify patterns in time series data, like trends, cycles, or seasonal variation as well as highlights the main characteristics of the time series data. Futhermore, I will use the Forecasting model for predicting future data based on the historical data with different types. Then I will evaluate and compare the performance of these models against each other and choose the best model. Finally, I will answer the inspiration questions raised at the beginning of the project."
   ]
  },
  {
   "cell_type": "markdown",
   "id": "b4867be5",
   "metadata": {},
   "source": [
    "### 1.1. Data description \n",
    "\n",
    "This dataset contains historical share price data from the top 100 companies (with 100 different CSV files) listed on the Australian Securities Exchange, each data file contains:\n",
    "- **Date**: date\n",
    "- **Open**: opening price\n",
    "- **High**: high price\n",
    "- **Low**: low price\n",
    "- **Close**: closing price\n",
    "- **Adj Close**: adjusted closing price (including dividends)\n",
    "- **Volume**: trading volume"
   ]
  },
  {
   "cell_type": "markdown",
   "id": "a55cd132",
   "metadata": {},
   "source": [
    "### 1.2. Inspiration questions\n",
    "\n",
    "1. Which stocks have high value, high trading volume and low volatility?\n",
    "2. What periods of the year are stocks most volatile?\n",
    "3. Investors can profit by making smart decisions about buying, selling or holding stocks by predicting stock trends."
   ]
  },
  {
   "cell_type": "markdown",
   "id": "cb6c0d1b",
   "metadata": {},
   "source": [
    "### 1.3. Import libraries"
   ]
  },
  {
   "cell_type": "code",
   "execution_count": 45,
   "id": "c9f96c6d",
   "metadata": {},
   "outputs": [],
   "source": [
    "# Import libraries\n",
    "import pandas as pd\n",
    "import numpy as np\n",
    "import seaborn as sb\n",
    "import matplotlib.pyplot as plt\n",
    "import seaborn as sns\n",
    "import os\n",
    "\n",
    "# Random Forest Classifier\n",
    "from sklearn.ensemble import RandomForestClassifier\n",
    "from sklearn.metrics import precision_score\n",
    "\n",
    "from statsmodels.tsa.arima.model import ARIMA\n",
    "from statsmodels.graphics.tsaplots import plot_acf, plot_pacf\n",
    "from statsmodels.tsa.stattools import adfuller\n",
    "from statsmodels.tsa.seasonal import seasonal_decompose\n",
    "from pmdarima.arima import auto_arima\n",
    "from sklearn.model_selection import train_test_split\n",
    "from sklearn.metrics import mean_absolute_error, mean_absolute_percentage_error, mean_squared_error\n",
    "from math import sqrt\n",
    "from sklearn.preprocessing import MinMaxScaler\n",
    "\n",
    "import warnings\n",
    "warnings.filterwarnings('ignore')"
   ]
  },
  {
   "cell_type": "markdown",
   "id": "af7b0399",
   "metadata": {},
   "source": [
    "## 2. Read multiple CSV file "
   ]
  },
  {
   "cell_type": "code",
   "execution_count": 2,
   "id": "0643120f",
   "metadata": {},
   "outputs": [],
   "source": [
    "# Set the path to the folder containing the CSV files\n",
    "folder_path = 'dataset'\n",
    "\n",
    "# Create an empty list to store the data from all the CSV files\n",
    "data_frames = []\n",
    "\n",
    "# Create an empty list to store the names of the files\n",
    "file_names = []\n",
    "\n",
    "# Loop through the files in the folder, check if they are CSV files\n",
    "for file_name in os.listdir(folder_path):\n",
    "    if file_name.endswith('.csv'):\n",
    "        file_path = os.path.join(folder_path, file_name)\n",
    "        df = pd.read_csv(file_path)\n",
    "        # Add the name of the file as a new column to the DataFrame\n",
    "        df['Company'] = file_name\n",
    "        data_frames.append(df)\n",
    "        # Store the name of the file in the file_names list\n",
    "        file_names.append(file_name)\n",
    "\n",
    "# After the loop, data_frames will contain all the DataFrames from the CSV files in the folder\n",
    "# file_names will contain the names of all the CSV files in the folder\n",
    "# To combine all the DataFrames into a single DataFrame\n",
    "combined_df = pd.concat(data_frames, ignore_index=True)"
   ]
  },
  {
   "cell_type": "markdown",
   "id": "6d8d26fb",
   "metadata": {},
   "source": [
    "## 3. Exploratory Data Analysis (EDA)"
   ]
  },
  {
   "cell_type": "markdown",
   "id": "87ada2d2",
   "metadata": {},
   "source": [
    "### 3.1. Data Exploration"
   ]
  },
  {
   "cell_type": "code",
   "execution_count": 3,
   "id": "c1a32cb9",
   "metadata": {},
   "outputs": [
    {
     "data": {
      "text/html": [
       "<div>\n",
       "<style scoped>\n",
       "    .dataframe tbody tr th:only-of-type {\n",
       "        vertical-align: middle;\n",
       "    }\n",
       "\n",
       "    .dataframe tbody tr th {\n",
       "        vertical-align: top;\n",
       "    }\n",
       "\n",
       "    .dataframe thead th {\n",
       "        text-align: right;\n",
       "    }\n",
       "</style>\n",
       "<table border=\"1\" class=\"dataframe\">\n",
       "  <thead>\n",
       "    <tr style=\"text-align: right;\">\n",
       "      <th></th>\n",
       "      <th>Date</th>\n",
       "      <th>Open</th>\n",
       "      <th>High</th>\n",
       "      <th>Low</th>\n",
       "      <th>Close</th>\n",
       "      <th>Adj Close</th>\n",
       "      <th>Volume</th>\n",
       "      <th>Company</th>\n",
       "    </tr>\n",
       "  </thead>\n",
       "  <tbody>\n",
       "    <tr>\n",
       "      <th>0</th>\n",
       "      <td>2015-03-31</td>\n",
       "      <td>0.555</td>\n",
       "      <td>0.595</td>\n",
       "      <td>0.530</td>\n",
       "      <td>0.565</td>\n",
       "      <td>0.565</td>\n",
       "      <td>4816294.0</td>\n",
       "      <td>A2M.csv</td>\n",
       "    </tr>\n",
       "    <tr>\n",
       "      <th>1</th>\n",
       "      <td>2015-04-01</td>\n",
       "      <td>0.575</td>\n",
       "      <td>0.580</td>\n",
       "      <td>0.555</td>\n",
       "      <td>0.565</td>\n",
       "      <td>0.565</td>\n",
       "      <td>4376660.0</td>\n",
       "      <td>A2M.csv</td>\n",
       "    </tr>\n",
       "    <tr>\n",
       "      <th>2</th>\n",
       "      <td>2015-04-02</td>\n",
       "      <td>0.560</td>\n",
       "      <td>0.565</td>\n",
       "      <td>0.535</td>\n",
       "      <td>0.555</td>\n",
       "      <td>0.555</td>\n",
       "      <td>2779640.0</td>\n",
       "      <td>A2M.csv</td>\n",
       "    </tr>\n",
       "    <tr>\n",
       "      <th>3</th>\n",
       "      <td>2015-04-07</td>\n",
       "      <td>0.545</td>\n",
       "      <td>0.550</td>\n",
       "      <td>0.540</td>\n",
       "      <td>0.545</td>\n",
       "      <td>0.545</td>\n",
       "      <td>392179.0</td>\n",
       "      <td>A2M.csv</td>\n",
       "    </tr>\n",
       "    <tr>\n",
       "      <th>4</th>\n",
       "      <td>2015-04-08</td>\n",
       "      <td>0.545</td>\n",
       "      <td>0.545</td>\n",
       "      <td>0.530</td>\n",
       "      <td>0.540</td>\n",
       "      <td>0.540</td>\n",
       "      <td>668446.0</td>\n",
       "      <td>A2M.csv</td>\n",
       "    </tr>\n",
       "  </tbody>\n",
       "</table>\n",
       "</div>"
      ],
      "text/plain": [
       "         Date   Open   High    Low  Close  Adj Close     Volume  Company\n",
       "0  2015-03-31  0.555  0.595  0.530  0.565      0.565  4816294.0  A2M.csv\n",
       "1  2015-04-01  0.575  0.580  0.555  0.565      0.565  4376660.0  A2M.csv\n",
       "2  2015-04-02  0.560  0.565  0.535  0.555      0.555  2779640.0  A2M.csv\n",
       "3  2015-04-07  0.545  0.550  0.540  0.545      0.545   392179.0  A2M.csv\n",
       "4  2015-04-08  0.545  0.545  0.530  0.540      0.540   668446.0  A2M.csv"
      ]
     },
     "execution_count": 3,
     "metadata": {},
     "output_type": "execute_result"
    }
   ],
   "source": [
    "combined_df.head()"
   ]
  },
  {
   "cell_type": "code",
   "execution_count": 4,
   "id": "b7e6dbba",
   "metadata": {},
   "outputs": [
    {
     "data": {
      "text/plain": [
       "(432888, 8)"
      ]
     },
     "execution_count": 4,
     "metadata": {},
     "output_type": "execute_result"
    }
   ],
   "source": [
    "# Check dataframe shape\n",
    "combined_df.shape"
   ]
  },
  {
   "cell_type": "code",
   "execution_count": 5,
   "id": "32190b26",
   "metadata": {},
   "outputs": [
    {
     "data": {
      "text/plain": [
       "Date            0\n",
       "Open         1527\n",
       "High         1527\n",
       "Low          1527\n",
       "Close        1527\n",
       "Adj Close    1527\n",
       "Volume       1527\n",
       "Company         0\n",
       "dtype: int64"
      ]
     },
     "execution_count": 5,
     "metadata": {},
     "output_type": "execute_result"
    }
   ],
   "source": [
    "# Check null\n",
    "combined_df.isnull().sum()"
   ]
  },
  {
   "cell_type": "code",
   "execution_count": 6,
   "id": "f8847ab8",
   "metadata": {},
   "outputs": [
    {
     "name": "stdout",
     "output_type": "stream",
     "text": [
      "<class 'pandas.core.frame.DataFrame'>\n",
      "RangeIndex: 432888 entries, 0 to 432887\n",
      "Data columns (total 8 columns):\n",
      " #   Column     Non-Null Count   Dtype  \n",
      "---  ------     --------------   -----  \n",
      " 0   Date       432888 non-null  object \n",
      " 1   Open       431361 non-null  float64\n",
      " 2   High       431361 non-null  float64\n",
      " 3   Low        431361 non-null  float64\n",
      " 4   Close      431361 non-null  float64\n",
      " 5   Adj Close  431361 non-null  float64\n",
      " 6   Volume     431361 non-null  float64\n",
      " 7   Company    432888 non-null  object \n",
      "dtypes: float64(6), object(2)\n",
      "memory usage: 26.4+ MB\n"
     ]
    }
   ],
   "source": [
    "# Check information dataframe\n",
    "combined_df.info()"
   ]
  },
  {
   "cell_type": "code",
   "execution_count": 7,
   "id": "49d22ccf",
   "metadata": {},
   "outputs": [
    {
     "data": {
      "text/html": [
       "<div>\n",
       "<style scoped>\n",
       "    .dataframe tbody tr th:only-of-type {\n",
       "        vertical-align: middle;\n",
       "    }\n",
       "\n",
       "    .dataframe tbody tr th {\n",
       "        vertical-align: top;\n",
       "    }\n",
       "\n",
       "    .dataframe thead th {\n",
       "        text-align: right;\n",
       "    }\n",
       "</style>\n",
       "<table border=\"1\" class=\"dataframe\">\n",
       "  <thead>\n",
       "    <tr style=\"text-align: right;\">\n",
       "      <th></th>\n",
       "      <th>Open</th>\n",
       "      <th>High</th>\n",
       "      <th>Low</th>\n",
       "      <th>Close</th>\n",
       "      <th>Adj Close</th>\n",
       "      <th>Volume</th>\n",
       "    </tr>\n",
       "  </thead>\n",
       "  <tbody>\n",
       "    <tr>\n",
       "      <th>count</th>\n",
       "      <td>431361.000000</td>\n",
       "      <td>431361.000000</td>\n",
       "      <td>431361.000000</td>\n",
       "      <td>431361.000000</td>\n",
       "      <td>431361.000000</td>\n",
       "      <td>4.313610e+05</td>\n",
       "    </tr>\n",
       "    <tr>\n",
       "      <th>mean</th>\n",
       "      <td>13.628159</td>\n",
       "      <td>13.765587</td>\n",
       "      <td>13.486251</td>\n",
       "      <td>13.626580</td>\n",
       "      <td>10.388578</td>\n",
       "      <td>3.646548e+06</td>\n",
       "    </tr>\n",
       "    <tr>\n",
       "      <th>std</th>\n",
       "      <td>19.325604</td>\n",
       "      <td>19.506007</td>\n",
       "      <td>19.140934</td>\n",
       "      <td>19.325726</td>\n",
       "      <td>17.343674</td>\n",
       "      <td>7.011357e+06</td>\n",
       "    </tr>\n",
       "    <tr>\n",
       "      <th>min</th>\n",
       "      <td>0.004000</td>\n",
       "      <td>0.004000</td>\n",
       "      <td>0.004000</td>\n",
       "      <td>0.004000</td>\n",
       "      <td>0.002449</td>\n",
       "      <td>0.000000e+00</td>\n",
       "    </tr>\n",
       "    <tr>\n",
       "      <th>25%</th>\n",
       "      <td>3.490000</td>\n",
       "      <td>3.530730</td>\n",
       "      <td>3.450000</td>\n",
       "      <td>3.490000</td>\n",
       "      <td>2.229591</td>\n",
       "      <td>5.879090e+05</td>\n",
       "    </tr>\n",
       "    <tr>\n",
       "      <th>50%</th>\n",
       "      <td>7.200000</td>\n",
       "      <td>7.275480</td>\n",
       "      <td>7.110000</td>\n",
       "      <td>7.196750</td>\n",
       "      <td>5.001390</td>\n",
       "      <td>1.799148e+06</td>\n",
       "    </tr>\n",
       "    <tr>\n",
       "      <th>75%</th>\n",
       "      <td>15.888700</td>\n",
       "      <td>16.040001</td>\n",
       "      <td>15.698000</td>\n",
       "      <td>15.866700</td>\n",
       "      <td>11.451574</td>\n",
       "      <td>4.207143e+06</td>\n",
       "    </tr>\n",
       "    <tr>\n",
       "      <th>max</th>\n",
       "      <td>339.420013</td>\n",
       "      <td>342.750000</td>\n",
       "      <td>337.029999</td>\n",
       "      <td>341.000000</td>\n",
       "      <td>339.376190</td>\n",
       "      <td>9.930183e+08</td>\n",
       "    </tr>\n",
       "  </tbody>\n",
       "</table>\n",
       "</div>"
      ],
      "text/plain": [
       "                Open           High            Low          Close  \\\n",
       "count  431361.000000  431361.000000  431361.000000  431361.000000   \n",
       "mean       13.628159      13.765587      13.486251      13.626580   \n",
       "std        19.325604      19.506007      19.140934      19.325726   \n",
       "min         0.004000       0.004000       0.004000       0.004000   \n",
       "25%         3.490000       3.530730       3.450000       3.490000   \n",
       "50%         7.200000       7.275480       7.110000       7.196750   \n",
       "75%        15.888700      16.040001      15.698000      15.866700   \n",
       "max       339.420013     342.750000     337.029999     341.000000   \n",
       "\n",
       "           Adj Close        Volume  \n",
       "count  431361.000000  4.313610e+05  \n",
       "mean       10.388578  3.646548e+06  \n",
       "std        17.343674  7.011357e+06  \n",
       "min         0.002449  0.000000e+00  \n",
       "25%         2.229591  5.879090e+05  \n",
       "50%         5.001390  1.799148e+06  \n",
       "75%        11.451574  4.207143e+06  \n",
       "max       339.376190  9.930183e+08  "
      ]
     },
     "execution_count": 7,
     "metadata": {},
     "output_type": "execute_result"
    }
   ],
   "source": [
    "# summarizes dataframe\n",
    "combined_df.describe()"
   ]
  },
  {
   "cell_type": "code",
   "execution_count": 8,
   "id": "4efcac71",
   "metadata": {},
   "outputs": [
    {
     "data": {
      "text/plain": [
       "False"
      ]
     },
     "execution_count": 8,
     "metadata": {},
     "output_type": "execute_result"
    }
   ],
   "source": [
    "# Check negative or zero value\n",
    "(combined_df[['Open','High','Low','Close','Adj Close']].values <= 0).any()"
   ]
  },
  {
   "cell_type": "markdown",
   "id": "1bee46ec",
   "metadata": {},
   "source": [
    "### 3.2. Data Wrangling"
   ]
  },
  {
   "cell_type": "markdown",
   "id": "d0ab855a",
   "metadata": {},
   "source": [
    "**Removing Rows with Null Values**"
   ]
  },
  {
   "cell_type": "code",
   "execution_count": 9,
   "id": "e1942bf2",
   "metadata": {},
   "outputs": [],
   "source": [
    "# Removing all Null rows in dataframe\n",
    "df = combined_df.dropna()"
   ]
  },
  {
   "cell_type": "markdown",
   "id": "60ab9269",
   "metadata": {},
   "source": [
    "**Change type Date column**"
   ]
  },
  {
   "cell_type": "code",
   "execution_count": 10,
   "id": "4714e7a4",
   "metadata": {},
   "outputs": [],
   "source": [
    "# Change the type of Date column from string to datetime\n",
    "df['Date'] = pd.to_datetime(df['Date'])"
   ]
  },
  {
   "cell_type": "markdown",
   "id": "7738782f",
   "metadata": {},
   "source": [
    "**Change Company value**"
   ]
  },
  {
   "cell_type": "code",
   "execution_count": 11,
   "id": "7aae6340",
   "metadata": {},
   "outputs": [],
   "source": [
    "# Change the Company name without .csv \n",
    "df['Company'] = df['Company'].str.replace('.csv', '')"
   ]
  },
  {
   "cell_type": "markdown",
   "id": "7309916b",
   "metadata": {},
   "source": [
    "**Change Date into Weekday and Quarter**"
   ]
  },
  {
   "cell_type": "code",
   "execution_count": 12,
   "id": "782b0cfe",
   "metadata": {},
   "outputs": [],
   "source": [
    "df['Day_of_week'] = df['Date'].dt.day_name()\n",
    "df['Quarter'] = df['Date'].dt.to_period('Q')"
   ]
  },
  {
   "cell_type": "code",
   "execution_count": 13,
   "id": "cc6b8d41",
   "metadata": {},
   "outputs": [
    {
     "data": {
      "text/html": [
       "<div>\n",
       "<style scoped>\n",
       "    .dataframe tbody tr th:only-of-type {\n",
       "        vertical-align: middle;\n",
       "    }\n",
       "\n",
       "    .dataframe tbody tr th {\n",
       "        vertical-align: top;\n",
       "    }\n",
       "\n",
       "    .dataframe thead th {\n",
       "        text-align: right;\n",
       "    }\n",
       "</style>\n",
       "<table border=\"1\" class=\"dataframe\">\n",
       "  <thead>\n",
       "    <tr style=\"text-align: right;\">\n",
       "      <th></th>\n",
       "      <th>Date</th>\n",
       "      <th>Open</th>\n",
       "      <th>High</th>\n",
       "      <th>Low</th>\n",
       "      <th>Close</th>\n",
       "      <th>Adj Close</th>\n",
       "      <th>Volume</th>\n",
       "      <th>Company</th>\n",
       "      <th>Day_of_week</th>\n",
       "      <th>Quarter</th>\n",
       "    </tr>\n",
       "  </thead>\n",
       "  <tbody>\n",
       "    <tr>\n",
       "      <th>0</th>\n",
       "      <td>2015-03-31</td>\n",
       "      <td>0.555</td>\n",
       "      <td>0.595</td>\n",
       "      <td>0.530</td>\n",
       "      <td>0.565</td>\n",
       "      <td>0.565</td>\n",
       "      <td>4816294.0</td>\n",
       "      <td>A2M</td>\n",
       "      <td>Tuesday</td>\n",
       "      <td>2015Q1</td>\n",
       "    </tr>\n",
       "    <tr>\n",
       "      <th>1</th>\n",
       "      <td>2015-04-01</td>\n",
       "      <td>0.575</td>\n",
       "      <td>0.580</td>\n",
       "      <td>0.555</td>\n",
       "      <td>0.565</td>\n",
       "      <td>0.565</td>\n",
       "      <td>4376660.0</td>\n",
       "      <td>A2M</td>\n",
       "      <td>Wednesday</td>\n",
       "      <td>2015Q2</td>\n",
       "    </tr>\n",
       "    <tr>\n",
       "      <th>2</th>\n",
       "      <td>2015-04-02</td>\n",
       "      <td>0.560</td>\n",
       "      <td>0.565</td>\n",
       "      <td>0.535</td>\n",
       "      <td>0.555</td>\n",
       "      <td>0.555</td>\n",
       "      <td>2779640.0</td>\n",
       "      <td>A2M</td>\n",
       "      <td>Thursday</td>\n",
       "      <td>2015Q2</td>\n",
       "    </tr>\n",
       "    <tr>\n",
       "      <th>3</th>\n",
       "      <td>2015-04-07</td>\n",
       "      <td>0.545</td>\n",
       "      <td>0.550</td>\n",
       "      <td>0.540</td>\n",
       "      <td>0.545</td>\n",
       "      <td>0.545</td>\n",
       "      <td>392179.0</td>\n",
       "      <td>A2M</td>\n",
       "      <td>Tuesday</td>\n",
       "      <td>2015Q2</td>\n",
       "    </tr>\n",
       "    <tr>\n",
       "      <th>4</th>\n",
       "      <td>2015-04-08</td>\n",
       "      <td>0.545</td>\n",
       "      <td>0.545</td>\n",
       "      <td>0.530</td>\n",
       "      <td>0.540</td>\n",
       "      <td>0.540</td>\n",
       "      <td>668446.0</td>\n",
       "      <td>A2M</td>\n",
       "      <td>Wednesday</td>\n",
       "      <td>2015Q2</td>\n",
       "    </tr>\n",
       "  </tbody>\n",
       "</table>\n",
       "</div>"
      ],
      "text/plain": [
       "        Date   Open   High    Low  Close  Adj Close     Volume Company  \\\n",
       "0 2015-03-31  0.555  0.595  0.530  0.565      0.565  4816294.0     A2M   \n",
       "1 2015-04-01  0.575  0.580  0.555  0.565      0.565  4376660.0     A2M   \n",
       "2 2015-04-02  0.560  0.565  0.535  0.555      0.555  2779640.0     A2M   \n",
       "3 2015-04-07  0.545  0.550  0.540  0.545      0.545   392179.0     A2M   \n",
       "4 2015-04-08  0.545  0.545  0.530  0.540      0.540   668446.0     A2M   \n",
       "\n",
       "  Day_of_week Quarter  \n",
       "0     Tuesday  2015Q1  \n",
       "1   Wednesday  2015Q2  \n",
       "2    Thursday  2015Q2  \n",
       "3     Tuesday  2015Q2  \n",
       "4   Wednesday  2015Q2  "
      ]
     },
     "execution_count": 13,
     "metadata": {},
     "output_type": "execute_result"
    }
   ],
   "source": [
    "df.head()"
   ]
  },
  {
   "cell_type": "markdown",
   "id": "8beca262",
   "metadata": {},
   "source": [
    "**Get top 5 companies with the highest volume**"
   ]
  },
  {
   "cell_type": "code",
   "execution_count": 14,
   "id": "528e5740",
   "metadata": {},
   "outputs": [],
   "source": [
    "# Calculate sum of volume and get top 5 companies\n",
    "top_volume_df = df.groupby(['Company'])['Volume'].agg('sum').reset_index()\n",
    "top_volume_df = top_volume_df.sort_values(by=\"Volume\", ascending=False).head(5)"
   ]
  },
  {
   "cell_type": "code",
   "execution_count": 15,
   "id": "2acbc191",
   "metadata": {},
   "outputs": [],
   "source": [
    "# Filter the dataframe keep top 5 companies\n",
    "company_list = top_volume_df['Company'].tolist()\n",
    "df = df[df['Company'].isin(company_list)]"
   ]
  },
  {
   "cell_type": "code",
   "execution_count": 16,
   "id": "e3811daf",
   "metadata": {},
   "outputs": [
    {
     "data": {
      "text/plain": [
       "(25716, 10)"
      ]
     },
     "execution_count": 16,
     "metadata": {},
     "output_type": "execute_result"
    }
   ],
   "source": [
    "df.shape"
   ]
  },
  {
   "cell_type": "markdown",
   "id": "34f1c6a2",
   "metadata": {},
   "source": [
    "### 3.3. Data Visualization"
   ]
  },
  {
   "cell_type": "code",
   "execution_count": 17,
   "id": "d08523f0",
   "metadata": {},
   "outputs": [
    {
     "data": {
      "text/plain": [
       "['TLS', 'BHP', 'AWC', 'FMG', 'QAN']"
      ]
     },
     "execution_count": 17,
     "metadata": {},
     "output_type": "execute_result"
    }
   ],
   "source": [
    "company_list"
   ]
  },
  {
   "cell_type": "code",
   "execution_count": 32,
   "id": "145615e2",
   "metadata": {},
   "outputs": [],
   "source": [
    "# Split big dataframe into different company dataframes  \n",
    "TLS_df = df.loc[df['Company'] == 'TLS']\n",
    "BHP_df = df.loc[df['Company'] == 'BHP']\n",
    "AWC_df = df.loc[df['Company'] == 'AWC']\n",
    "FMG_df = df.loc[df['Company'] == 'FMG']\n",
    "QAN_df = df.loc[df['Company'] == 'QAN']"
   ]
  },
  {
   "cell_type": "markdown",
   "id": "90a78916",
   "metadata": {},
   "source": [
    "### Opening price"
   ]
  },
  {
   "cell_type": "code",
   "execution_count": 19,
   "id": "548e39c4",
   "metadata": {},
   "outputs": [
    {
     "data": {
      "text/plain": [
       "<matplotlib.legend.Legend at 0x228f5c09b50>"
      ]
     },
     "execution_count": 19,
     "metadata": {},
     "output_type": "execute_result"
    },
    {
     "data": {
      "image/png": "[encoded data removed]",
      "text/plain": [
       "<Figure size 1080x720 with 1 Axes>"
      ]
     },
     "metadata": {
      "needs_background": "light"
     },
     "output_type": "display_data"
    }
   ],
   "source": [
    "fig,ax = plt.subplots(figsize=(15,10))\n",
    "ax.plot(TLS_df['Date'], TLS_df['Open'], label=\"TLS\")\n",
    "ax.plot(BHP_df['Date'], BHP_df['Open'], label=\"BHP\")\n",
    "ax.plot(AWC_df['Date'], AWC_df['Open'], label=\"AWC\")\n",
    "ax.plot(FMG_df['Date'], FMG_df['Open'], label=\"FMG\")\n",
    "ax.plot(QAN_df['Date'], QAN_df['Open'], label=\"QAN\")\n",
    "ax.set_xlabel('Date')\n",
    "ax.set_title('Opening Price')\n",
    "plt.legend()"
   ]
  },
  {
   "cell_type": "markdown",
   "id": "f523b94b",
   "metadata": {},
   "source": [
    "### Closed Price"
   ]
  },
  {
   "cell_type": "code",
   "execution_count": 20,
   "id": "6af39535",
   "metadata": {},
   "outputs": [
    {
     "data": {
      "text/plain": [
       "<matplotlib.legend.Legend at 0x228f5c87310>"
      ]
     },
     "execution_count": 20,
     "metadata": {},
     "output_type": "execute_result"
    },
    {
     "data": {
      "image/png": "[encoded data removed]",
      "text/plain": [
       "<Figure size 1080x720 with 1 Axes>"
      ]
     },
     "metadata": {
      "needs_background": "light"
     },
     "output_type": "display_data"
    }
   ],
   "source": [
    "fig,ax = plt.subplots(figsize=(15,10))\n",
    "ax.plot(TLS_df['Date'], TLS_df['Close'], label=\"TLS\")\n",
    "ax.plot(BHP_df['Date'], BHP_df['Close'], label=\"BHP\")\n",
    "ax.plot(AWC_df['Date'], AWC_df['Close'], label=\"AWC\")\n",
    "ax.plot(FMG_df['Date'], FMG_df['Close'], label=\"FMG\")\n",
    "ax.plot(QAN_df['Date'], QAN_df['Close'], label=\"QAN\")\n",
    "ax.set_xlabel('Date')\n",
    "ax.set_title('Closed Price')\n",
    "plt.legend()"
   ]
  },
  {
   "cell_type": "markdown",
   "id": "78b42bca",
   "metadata": {},
   "source": [
    "### Volume"
   ]
  },
  {
   "cell_type": "code",
   "execution_count": 21,
   "id": "aeb91685",
   "metadata": {},
   "outputs": [
    {
     "data": {
      "text/plain": [
       "<matplotlib.legend.Legend at 0x228f5f16d90>"
      ]
     },
     "execution_count": 21,
     "metadata": {},
     "output_type": "execute_result"
    },
    {
     "data": {
      "image/png": "[encoded data removed]",
      "text/plain": [
       "<Figure size 1080x720 with 1 Axes>"
      ]
     },
     "metadata": {
      "needs_background": "light"
     },
     "output_type": "display_data"
    }
   ],
   "source": [
    "fig,ax = plt.subplots(figsize=(15,10))\n",
    "ax.plot(TLS_df['Date'], TLS_df['Volume'], label=\"TLS\")\n",
    "ax.plot(BHP_df['Date'], BHP_df['Volume'], label=\"BHP\")\n",
    "ax.plot(AWC_df['Date'], AWC_df['Volume'], label=\"AWC\")\n",
    "ax.plot(FMG_df['Date'], FMG_df['Volume'], label=\"FMG\")\n",
    "ax.plot(QAN_df['Date'], QAN_df['Volume'], label=\"QAN\")\n",
    "ax.set_xlabel('Date')\n",
    "ax.set_title('Volume')\n",
    "plt.legend()"
   ]
  },
  {
   "cell_type": "markdown",
   "id": "b391bb4c",
   "metadata": {},
   "source": [
    "### Distribution of Low vs High price "
   ]
  },
  {
   "cell_type": "code",
   "execution_count": 22,
   "id": "42acfe53",
   "metadata": {},
   "outputs": [],
   "source": [
    "TLS_df_melted = pd.melt(TLS_df[['Low', 'High']])\n",
    "BHP_df_melted = pd.melt(BHP_df[['Low', 'High']])\n",
    "AWC_df_melted = pd.melt(AWC_df[['Low', 'High']])\n",
    "FMG_df_melted = pd.melt(FMG_df[['Low', 'High']])\n",
    "QAN_df_melted = pd.melt(QAN_df[['Low', 'High']])"
   ]
  },
  {
   "cell_type": "code",
   "execution_count": 23,
   "id": "dd225028",
   "metadata": {},
   "outputs": [
    {
     "data": {
      "image/png": "[encoded data removed]",
      "text/plain": [
       "<Figure size 1080x432 with 5 Axes>"
      ]
     },
     "metadata": {
      "needs_background": "light"
     },
     "output_type": "display_data"
    }
   ],
   "source": [
    "fig, ax = plt.subplots(1, 5, figsize=(15, 6))\n",
    "sns.set_theme(style=\"ticks\", palette=\"pastel\")\n",
    "\n",
    "# add padding between the subplots\n",
    "plt.subplots_adjust(wspace=0.5) \n",
    "\n",
    "# draw boxplot for age in the 1st subplot\n",
    "sns.boxplot(x='variable', y='value', data=TLS_df_melted, \n",
    "            palette=[\"m\", \"g\"], ax=ax[0])\n",
    "ax[0].set_xlabel('TLS')\n",
    "\n",
    "# draw boxplot for station_distance in the 2nd subplot\n",
    "sns.boxplot(x='variable', y='value', data=BHP_df_melted, \n",
    "            palette=[\"m\", \"g\"], ax=ax[1])\n",
    "ax[1].set_xlabel('BHP')\n",
    "\n",
    "# # draw boxplot for stores_count in the 3rd subplot\n",
    "sns.boxplot(x='variable', y='value', data=AWC_df_melted, \n",
    "            palette=[\"m\", \"g\"], ax=ax[2])\n",
    "ax[2].set_title('Low vs High price for each stock', fontdict={'size': 22}, pad=25)\n",
    "ax[2].set_xlabel('AWC')\n",
    "\n",
    "# # finally draw boxplot for unit_price in the 4th subplot\n",
    "sns.boxplot(x='variable', y='value', data=FMG_df_melted, \n",
    "            palette=[\"m\", \"g\"], ax=ax[3])\n",
    "ax[3].set_xlabel('FMG')\n",
    "\n",
    "# # finally draw boxplot for unit_price in the 4th subplot\n",
    "sns.boxplot(x='variable', y='value', data=QAN_df_melted, \n",
    "            palette=[\"m\", \"g\"], ax=ax[4])\n",
    "ax[4].set_xlabel('QAN')\n",
    "\n",
    "# by default, you'll see x-tick label set to 0 in each subplot\n",
    "# remove it by setting it to empty list\n",
    "for subplot in ax:\n",
    "    subplot.set_xticklabels([])\n",
    "\n",
    "plt.show()"
   ]
  },
  {
   "cell_type": "markdown",
   "id": "3dde641f",
   "metadata": {},
   "source": [
    "### Total trading volume by quarter"
   ]
  },
  {
   "cell_type": "code",
   "execution_count": 24,
   "id": "51aa2468",
   "metadata": {},
   "outputs": [],
   "source": [
    "# Group by dataframe follow the company and quarter and get sum of volume\n",
    "quarter_df = df.groupby(['Company','Quarter'])['Volume'].sum().reset_index()"
   ]
  },
  {
   "cell_type": "code",
   "execution_count": 25,
   "id": "88eafea7",
   "metadata": {},
   "outputs": [],
   "source": [
    "# Get the quarter from 2014 t0 2020\n",
    "quarter_df = quarter_df[~quarter_df['Quarter'].astype(str).str.startswith('200')]\n",
    "quarter_df = quarter_df[~quarter_df['Quarter'].astype(str).str.startswith('2010')]\n",
    "quarter_df = quarter_df[~quarter_df['Quarter'].astype(str).str.startswith('2011')]\n",
    "quarter_df = quarter_df[~quarter_df['Quarter'].astype(str).str.startswith('2012')]\n",
    "quarter_df = quarter_df[~quarter_df['Quarter'].astype(str).str.startswith('2013')]"
   ]
  },
  {
   "cell_type": "code",
   "execution_count": 26,
   "id": "1fb2283e",
   "metadata": {
    "scrolled": false
   },
   "outputs": [
    {
     "data": {
      "image/png": "[encoded data removed]",
      "text/plain": [
       "<Figure size 1440x504 with 1 Axes>"
      ]
     },
     "metadata": {},
     "output_type": "display_data"
    }
   ],
   "source": [
    "fig = plt.figure(figsize =(20, 7))\n",
    "sns.barplot(x = 'Quarter', y = 'Volume', data = quarter_df)\n",
    "\n",
    "plt.show()"
   ]
  },
  {
   "cell_type": "markdown",
   "id": "cbc895b3",
   "metadata": {},
   "source": [
    "### Average Closed price by quarter"
   ]
  },
  {
   "cell_type": "code",
   "execution_count": 27,
   "id": "acbcdf6a",
   "metadata": {},
   "outputs": [],
   "source": [
    "# Group by dataframe follow the company and quarter and get average of close price\n",
    "quarter_close_df = df.groupby(['Company','Quarter'])['Close'].mean().reset_index()\n",
    "\n",
    "# Get the quarter from 2014 t0 2020\n",
    "quarter_close_df = quarter_close_df[~quarter_close_df['Quarter'].astype(str).str.startswith('200')]\n",
    "quarter_close_df = quarter_close_df[~quarter_close_df['Quarter'].astype(str).str.startswith('2010')]\n",
    "quarter_close_df = quarter_close_df[~quarter_close_df['Quarter'].astype(str).str.startswith('2011')]\n",
    "quarter_close_df = quarter_close_df[~quarter_close_df['Quarter'].astype(str).str.startswith('2012')]\n",
    "quarter_close_df = quarter_close_df[~quarter_close_df['Quarter'].astype(str).str.startswith('2013')]"
   ]
  },
  {
   "cell_type": "code",
   "execution_count": 28,
   "id": "10a6efb7",
   "metadata": {},
   "outputs": [
    {
     "data": {
      "image/png": "[encoded data removed]",
      "text/plain": [
       "<Figure size 1440x504 with 1 Axes>"
      ]
     },
     "metadata": {},
     "output_type": "display_data"
    }
   ],
   "source": [
    "fig = plt.figure(figsize =(20, 7))\n",
    "sns.barplot(x = 'Quarter', y = 'Close', data = quarter_close_df)\n",
    "\n",
    "plt.show()"
   ]
  },
  {
   "cell_type": "markdown",
   "id": "ad7e9141",
   "metadata": {},
   "source": [
    "### EDA Summary\n",
    "In this section, I had a better insight into the data set and at the same time provided specific results for the selection and creation of suitable models for this data. Important discoveries found in this section include:\n",
    "- Data processing steps include removing rows with null values, change type Date column, change company value, change Date into Weekday and Quarter.\n",
    "- After performing data wrangling, we shorten the data (from 432888 to 25716 rows and 10 factors with no null value) to further analyze the top 5 stocks with the highest total trading volume.\n",
    "- Data types in the dataset include datetime, float, and object.\n",
    "- Use multiple line charts to show the opening price, closing price, and volume of the 5 analyzed stocks from 2000 to 2020.\n",
    "- Use box plot to see the division of Low versus High price for each stock.\n",
    "- Use bar chart to show the Total trading and Average Closed price by quarter for all stocks from 2014 to 2020."
   ]
  },
  {
   "cell_type": "markdown",
   "id": "b1d936d9",
   "metadata": {},
   "source": [
    "## 4. Methodology\n",
    "### 4.1. Modelling methods\n",
    "\n",
    "The time series analysis in this project uses statistical methods and machine learning to analyze time data and make predictions or inferences about the future. There will be developed with 3 models builts, including:\n",
    "- **Time Series Models**: ARIMA (AutoRegressive Integrated Moving Average)\n",
    "- **Deep Learning Models**: LSTM (Long Short-Term Memory)\n",
    "- **Ensemble Models**: Random Forest Classifier"
   ]
  },
  {
   "cell_type": "markdown",
   "id": "f60862ec",
   "metadata": {},
   "source": [
    "### 4.2. Model evaluation methods\n",
    "\n",
    "Data science places a lot of importance on model evaluation. It makes it simple for you to communicate your model to others and lets you see how well your model is performing and how closely your forecast matches the actual value. \\\n",
    "The assessment measures that will ultimately be used to assess and choose the model with the greatest performance are described below. Each of them has unique strengths and limitations, and they were chosen to serve as the foundation for an assessment that is as objective as possible.\n",
    "\n",
    "- **Mean Absolute Percentage Error (MAPE)**:\n",
    "$$ MAPE = \\frac{1}{N} \\sum^{N}_{i=1}{|\\frac{y_{i} - \\hat{y_{i}}}{y_{i}}|} $$\n",
    "\n",
    "- **Root Mean Squared Error (RMSE)**:\n",
    "$$ RMSE = \\sqrt{\\frac{1}{N} \\sum^{N}_{i=1}{(y_{i} - \\hat{y_{i}})^2}} $$\n",
    "\n",
    "\n",
    "- **Mean Absolute Error (MAE)**:\n",
    "$$ MAE = \\frac{1}{N} \\sum^{N}_{i=1}{|y_{i} - \\hat{y_{i}}|} $$"
   ]
  },
  {
   "cell_type": "markdown",
   "id": "3de13dd7",
   "metadata": {},
   "source": [
    "### 4.3. Data preparation"
   ]
  },
  {
   "cell_type": "markdown",
   "id": "526d5636",
   "metadata": {},
   "source": [
    "### Setting up the target"
   ]
  },
  {
   "cell_type": "code",
   "execution_count": 33,
   "id": "18c51d5a",
   "metadata": {},
   "outputs": [
    {
     "data": {
      "text/html": [
       "<div>\n",
       "<style scoped>\n",
       "    .dataframe tbody tr th:only-of-type {\n",
       "        vertical-align: middle;\n",
       "    }\n",
       "\n",
       "    .dataframe tbody tr th {\n",
       "        vertical-align: top;\n",
       "    }\n",
       "\n",
       "    .dataframe thead th {\n",
       "        text-align: right;\n",
       "    }\n",
       "</style>\n",
       "<table border=\"1\" class=\"dataframe\">\n",
       "  <thead>\n",
       "    <tr style=\"text-align: right;\">\n",
       "      <th></th>\n",
       "      <th>Open</th>\n",
       "      <th>High</th>\n",
       "      <th>Low</th>\n",
       "      <th>Close</th>\n",
       "      <th>Volume</th>\n",
       "    </tr>\n",
       "    <tr>\n",
       "      <th>Date</th>\n",
       "      <th></th>\n",
       "      <th></th>\n",
       "      <th></th>\n",
       "      <th></th>\n",
       "      <th></th>\n",
       "    </tr>\n",
       "  </thead>\n",
       "  <tbody>\n",
       "    <tr>\n",
       "      <th>2000-01-04</th>\n",
       "      <td>7.00044</td>\n",
       "      <td>7.00044</td>\n",
       "      <td>6.88222</td>\n",
       "      <td>6.89066</td>\n",
       "      <td>8203436.0</td>\n",
       "    </tr>\n",
       "    <tr>\n",
       "      <th>2000-01-05</th>\n",
       "      <td>6.75555</td>\n",
       "      <td>6.81466</td>\n",
       "      <td>6.69644</td>\n",
       "      <td>6.75555</td>\n",
       "      <td>9600494.0</td>\n",
       "    </tr>\n",
       "    <tr>\n",
       "      <th>2000-01-06</th>\n",
       "      <td>6.79778</td>\n",
       "      <td>6.84844</td>\n",
       "      <td>6.71333</td>\n",
       "      <td>6.71333</td>\n",
       "      <td>9683533.0</td>\n",
       "    </tr>\n",
       "    <tr>\n",
       "      <th>2000-01-07</th>\n",
       "      <td>6.70066</td>\n",
       "      <td>6.73866</td>\n",
       "      <td>6.58666</td>\n",
       "      <td>6.62044</td>\n",
       "      <td>13613336.0</td>\n",
       "    </tr>\n",
       "    <tr>\n",
       "      <th>2000-01-10</th>\n",
       "      <td>6.75555</td>\n",
       "      <td>6.75555</td>\n",
       "      <td>6.69644</td>\n",
       "      <td>6.71333</td>\n",
       "      <td>6067734.0</td>\n",
       "    </tr>\n",
       "  </tbody>\n",
       "</table>\n",
       "</div>"
      ],
      "text/plain": [
       "               Open     High      Low    Close      Volume\n",
       "Date                                                      \n",
       "2000-01-04  7.00044  7.00044  6.88222  6.89066   8203436.0\n",
       "2000-01-05  6.75555  6.81466  6.69644  6.75555   9600494.0\n",
       "2000-01-06  6.79778  6.84844  6.71333  6.71333   9683533.0\n",
       "2000-01-07  6.70066  6.73866  6.58666  6.62044  13613336.0\n",
       "2000-01-10  6.75555  6.75555  6.69644  6.71333   6067734.0"
      ]
     },
     "execution_count": 33,
     "metadata": {},
     "output_type": "execute_result"
    }
   ],
   "source": [
    "# Remove the extra columns that we don't need\n",
    "TLS_df = TLS_df.drop(columns=[\"Adj Close\", \"Company\", \"Day_of_week\", \"Quarter\"])\n",
    "\n",
    "# Make Date column to index\n",
    "TLS_df.set_index('Date', inplace=True)\n",
    "TLS_df.head()"
   ]
  },
  {
   "cell_type": "code",
   "execution_count": 34,
   "id": "1d4d9696",
   "metadata": {},
   "outputs": [
    {
     "data": {
      "text/html": [
       "<div>\n",
       "<style scoped>\n",
       "    .dataframe tbody tr th:only-of-type {\n",
       "        vertical-align: middle;\n",
       "    }\n",
       "\n",
       "    .dataframe tbody tr th {\n",
       "        vertical-align: top;\n",
       "    }\n",
       "\n",
       "    .dataframe thead th {\n",
       "        text-align: right;\n",
       "    }\n",
       "</style>\n",
       "<table border=\"1\" class=\"dataframe\">\n",
       "  <thead>\n",
       "    <tr style=\"text-align: right;\">\n",
       "      <th></th>\n",
       "      <th>Open</th>\n",
       "      <th>High</th>\n",
       "      <th>Low</th>\n",
       "      <th>Close</th>\n",
       "      <th>Volume</th>\n",
       "      <th>Tomorrow</th>\n",
       "    </tr>\n",
       "    <tr>\n",
       "      <th>Date</th>\n",
       "      <th></th>\n",
       "      <th></th>\n",
       "      <th></th>\n",
       "      <th></th>\n",
       "      <th></th>\n",
       "      <th></th>\n",
       "    </tr>\n",
       "  </thead>\n",
       "  <tbody>\n",
       "    <tr>\n",
       "      <th>2000-01-04</th>\n",
       "      <td>7.00044</td>\n",
       "      <td>7.00044</td>\n",
       "      <td>6.88222</td>\n",
       "      <td>6.89066</td>\n",
       "      <td>8203436.0</td>\n",
       "      <td>6.75555</td>\n",
       "    </tr>\n",
       "    <tr>\n",
       "      <th>2000-01-05</th>\n",
       "      <td>6.75555</td>\n",
       "      <td>6.81466</td>\n",
       "      <td>6.69644</td>\n",
       "      <td>6.75555</td>\n",
       "      <td>9600494.0</td>\n",
       "      <td>6.71333</td>\n",
       "    </tr>\n",
       "    <tr>\n",
       "      <th>2000-01-06</th>\n",
       "      <td>6.79778</td>\n",
       "      <td>6.84844</td>\n",
       "      <td>6.71333</td>\n",
       "      <td>6.71333</td>\n",
       "      <td>9683533.0</td>\n",
       "      <td>6.62044</td>\n",
       "    </tr>\n",
       "    <tr>\n",
       "      <th>2000-01-07</th>\n",
       "      <td>6.70066</td>\n",
       "      <td>6.73866</td>\n",
       "      <td>6.58666</td>\n",
       "      <td>6.62044</td>\n",
       "      <td>13613336.0</td>\n",
       "      <td>6.71333</td>\n",
       "    </tr>\n",
       "    <tr>\n",
       "      <th>2000-01-10</th>\n",
       "      <td>6.75555</td>\n",
       "      <td>6.75555</td>\n",
       "      <td>6.69644</td>\n",
       "      <td>6.71333</td>\n",
       "      <td>6067734.0</td>\n",
       "      <td>6.62044</td>\n",
       "    </tr>\n",
       "  </tbody>\n",
       "</table>\n",
       "</div>"
      ],
      "text/plain": [
       "               Open     High      Low    Close      Volume  Tomorrow\n",
       "Date                                                                \n",
       "2000-01-04  7.00044  7.00044  6.88222  6.89066   8203436.0   6.75555\n",
       "2000-01-05  6.75555  6.81466  6.69644  6.75555   9600494.0   6.71333\n",
       "2000-01-06  6.79778  6.84844  6.71333  6.71333   9683533.0   6.62044\n",
       "2000-01-07  6.70066  6.73866  6.58666  6.62044  13613336.0   6.71333\n",
       "2000-01-10  6.75555  6.75555  6.69644  6.71333   6067734.0   6.62044"
      ]
     },
     "execution_count": 34,
     "metadata": {},
     "output_type": "execute_result"
    }
   ],
   "source": [
    "# Shift the close price, which mean the next day to be the tomorrow's price\n",
    "TLS_df['Tomorrow'] = TLS_df['Close'].shift(-1)\n",
    "TLS_df.head()"
   ]
  },
  {
   "cell_type": "code",
   "execution_count": 36,
   "id": "fad48581",
   "metadata": {},
   "outputs": [
    {
     "data": {
      "text/html": [
       "<div>\n",
       "<style scoped>\n",
       "    .dataframe tbody tr th:only-of-type {\n",
       "        vertical-align: middle;\n",
       "    }\n",
       "\n",
       "    .dataframe tbody tr th {\n",
       "        vertical-align: top;\n",
       "    }\n",
       "\n",
       "    .dataframe thead th {\n",
       "        text-align: right;\n",
       "    }\n",
       "</style>\n",
       "<table border=\"1\" class=\"dataframe\">\n",
       "  <thead>\n",
       "    <tr style=\"text-align: right;\">\n",
       "      <th></th>\n",
       "      <th>Open</th>\n",
       "      <th>High</th>\n",
       "      <th>Low</th>\n",
       "      <th>Close</th>\n",
       "      <th>Volume</th>\n",
       "      <th>Tomorrow</th>\n",
       "      <th>Target</th>\n",
       "    </tr>\n",
       "    <tr>\n",
       "      <th>Date</th>\n",
       "      <th></th>\n",
       "      <th></th>\n",
       "      <th></th>\n",
       "      <th></th>\n",
       "      <th></th>\n",
       "      <th></th>\n",
       "      <th></th>\n",
       "    </tr>\n",
       "  </thead>\n",
       "  <tbody>\n",
       "    <tr>\n",
       "      <th>2000-01-04</th>\n",
       "      <td>7.00044</td>\n",
       "      <td>7.00044</td>\n",
       "      <td>6.88222</td>\n",
       "      <td>6.89066</td>\n",
       "      <td>8203436.0</td>\n",
       "      <td>6.75555</td>\n",
       "      <td>0</td>\n",
       "    </tr>\n",
       "    <tr>\n",
       "      <th>2000-01-05</th>\n",
       "      <td>6.75555</td>\n",
       "      <td>6.81466</td>\n",
       "      <td>6.69644</td>\n",
       "      <td>6.75555</td>\n",
       "      <td>9600494.0</td>\n",
       "      <td>6.71333</td>\n",
       "      <td>0</td>\n",
       "    </tr>\n",
       "    <tr>\n",
       "      <th>2000-01-06</th>\n",
       "      <td>6.79778</td>\n",
       "      <td>6.84844</td>\n",
       "      <td>6.71333</td>\n",
       "      <td>6.71333</td>\n",
       "      <td>9683533.0</td>\n",
       "      <td>6.62044</td>\n",
       "      <td>0</td>\n",
       "    </tr>\n",
       "    <tr>\n",
       "      <th>2000-01-07</th>\n",
       "      <td>6.70066</td>\n",
       "      <td>6.73866</td>\n",
       "      <td>6.58666</td>\n",
       "      <td>6.62044</td>\n",
       "      <td>13613336.0</td>\n",
       "      <td>6.71333</td>\n",
       "      <td>1</td>\n",
       "    </tr>\n",
       "    <tr>\n",
       "      <th>2000-01-10</th>\n",
       "      <td>6.75555</td>\n",
       "      <td>6.75555</td>\n",
       "      <td>6.69644</td>\n",
       "      <td>6.71333</td>\n",
       "      <td>6067734.0</td>\n",
       "      <td>6.62044</td>\n",
       "      <td>0</td>\n",
       "    </tr>\n",
       "  </tbody>\n",
       "</table>\n",
       "</div>"
      ],
      "text/plain": [
       "               Open     High      Low    Close      Volume  Tomorrow  Target\n",
       "Date                                                                        \n",
       "2000-01-04  7.00044  7.00044  6.88222  6.89066   8203436.0   6.75555       0\n",
       "2000-01-05  6.75555  6.81466  6.69644  6.75555   9600494.0   6.71333       0\n",
       "2000-01-06  6.79778  6.84844  6.71333  6.71333   9683533.0   6.62044       0\n",
       "2000-01-07  6.70066  6.73866  6.58666  6.62044  13613336.0   6.71333       1\n",
       "2000-01-10  6.75555  6.75555  6.69644  6.71333   6067734.0   6.62044       0"
      ]
     },
     "execution_count": 36,
     "metadata": {},
     "output_type": "execute_result"
    }
   ],
   "source": [
    "# Set the target that we try to predict called 'Target'\n",
    "# return the boolean value, 1 if tomorrow > today's price, otherwise 0\n",
    "TLS_df['Target'] = (TLS_df['Tomorrow'] > TLS_df['Close']).astype(int)\n",
    "TLS_df.head()"
   ]
  },
  {
   "cell_type": "code",
   "execution_count": 39,
   "id": "fd8c70d2",
   "metadata": {},
   "outputs": [
    {
     "data": {
      "text/plain": [
       "(5156, 7)"
      ]
     },
     "execution_count": 39,
     "metadata": {},
     "output_type": "execute_result"
    }
   ],
   "source": [
    "TLS_df.shape"
   ]
  },
  {
   "cell_type": "code",
   "execution_count": null,
   "id": "de038c03",
   "metadata": {},
   "outputs": [],
   "source": []
  },
  {
   "cell_type": "markdown",
   "id": "b67d3ef0",
   "metadata": {},
   "source": []
  },
  {
   "cell_type": "markdown",
   "id": "f29a90c4",
   "metadata": {},
   "source": [
    "Viết hàm tính các evaluation method"
   ]
  },
  {
   "cell_type": "markdown",
   "id": "8209555f",
   "metadata": {},
   "source": [
    "## 5. Model Development "
   ]
  },
  {
   "cell_type": "markdown",
   "id": "8258eb43",
   "metadata": {},
   "source": [
    "### 5.1. ARIMA (AutoRegressive Integrated Moving Average)\n",
    "\n",
    "ARIMA Models are specified by three order parameters: (p, d, q), where,\n",
    "\n",
    "- p is the order of the AR (Auto Regressive) term\n",
    "\n",
    "- q is the order of the MA (Moving Average) term\n",
    "\n",
    "- d is the number of differencing required to make the time series stationary"
   ]
  },
  {
   "cell_type": "code",
   "execution_count": null,
   "id": "0d6e0504",
   "metadata": {},
   "outputs": [],
   "source": [
    "plt.figure(figsize=(15,7))\n",
    "plt.title(\"TLS middle price by Date\", size=20)\n",
    "# plt.xlabel('Date')\n",
    "plt.ylabel('Middle Price')\n",
    "plt.plot(mid_df)\n",
    "plt.show()"
   ]
  },
  {
   "cell_type": "code",
   "execution_count": null,
   "id": "ee1ec3e2",
   "metadata": {},
   "outputs": [],
   "source": [
    "#Test for staionarity\n",
    "def test_stationarity(timeseries):\n",
    "    #Determing rolling statistics\n",
    "    rolmean = timeseries.rolling(12).mean()\n",
    "    rolstd = timeseries.rolling(12).std()\n",
    "    #Plot rolling statistics:\n",
    "    plt.plot(timeseries, color='blue',label='Original')\n",
    "    plt.plot(rolmean, color='red', label='Rolling Mean')\n",
    "    plt.plot(rolstd, color='black', label = 'Rolling Std')\n",
    "    plt.legend(loc='best')\n",
    "    plt.title('Rolling Mean and Standard Deviation')\n",
    "    plt.show(block=False)\n",
    "    print(\"Results of dickey fuller test\")\n",
    "    adft = adfuller(timeseries,autolag='AIC')\n",
    "    # output for dft will give us without defining what the values are.\n",
    "    #hence we manually write what values does it explains using a for loop\n",
    "    output = pd.Series(adft[0:4],index=['Test Statistics','p-value','No. of lags used','Number of observations used'])\n",
    "    for key,values in adft[4].items():\n",
    "        output['critical value (%s)'%key] =  values\n",
    "    print(output)\n",
    "test_stationarity(mid_df)"
   ]
  },
  {
   "cell_type": "code",
   "execution_count": null,
   "id": "2d79acec",
   "metadata": {},
   "outputs": [],
   "source": [
    "#if not stationary then eliminate trend\n",
    "#Eliminate trend\n",
    "from pylab import rcParams\n",
    "rcParams['figure.figsize'] = 10, 6\n",
    "df_log = np.log(mid_df)\n",
    "moving_avg = df_log.rolling(12).mean()\n",
    "std_dev = df_log.rolling(12).std()\n",
    "plt.legend(loc='best')\n",
    "plt.title('Moving Average')\n",
    "plt.plot(std_dev, color =\"black\", label = \"Standard Deviation\")\n",
    "plt.plot(moving_avg, color=\"red\", label = \"Mean\")\n",
    "plt.legend()\n",
    "plt.show()"
   ]
  },
  {
   "cell_type": "code",
   "execution_count": null,
   "id": "43f0e844",
   "metadata": {},
   "outputs": [],
   "source": [
    "#split data into train and training set\n",
    "train_data, test_data = df_log[3:int(len(df_log)*0.9)], df_log[int(len(df_log)*0.9):]\n",
    "plt.figure(figsize=(10,6))\n",
    "plt.grid(True)\n",
    "plt.xlabel('Dates')\n",
    "plt.ylabel('Closing Prices')\n",
    "plt.plot(df_log, 'green', label='Train data')\n",
    "plt.plot(test_data, 'blue', label='Test data')\n",
    "plt.legend()"
   ]
  },
  {
   "cell_type": "code",
   "execution_count": null,
   "id": "963bbeda",
   "metadata": {},
   "outputs": [],
   "source": [
    "X=mid_df.values\n",
    "size = int(len(X) * 0.7)\n",
    "train, test = X[0:size], X[size:len(X)]\n",
    "history = [i for i in train]\n",
    "predictions = []\n",
    "#Dự báo 1 bước thời gian\n",
    "for t in range(len(test)):\n",
    "    model = ARIMA(history, order=(2,1,2)) #cài đặt p(AR), d(I), q(MA)\n",
    "    model_fit = model.fit()\n",
    "    output = model_fit.forecast()# Dự báo cho toàn bộ chuỗi thời gian\n",
    "    y_pred = output[0] # Giá trị dự báo t+1\n",
    "    predictions.append(y_pred)\n",
    "    obs = test[t]\n",
    "    history.append(obs)\n",
    "    print('Giá trị dự báo=%f, Giá trị thực tế=%f' % (y_pred, obs)) # Hiển thị giá trị dự báo của từng bước thời gian \n"
   ]
  },
  {
   "cell_type": "code",
   "execution_count": null,
   "id": "ba7e2521",
   "metadata": {},
   "outputs": [],
   "source": [
    "# evaluate forecasts\n",
    "mse=mean_squared_error(test, predictions)\n",
    "rmse = sqrt(mse)\n",
    "print('MSE: %.2f' % mse)\n",
    "print('RMSE: %.2f' % rmse)"
   ]
  },
  {
   "cell_type": "code",
   "execution_count": null,
   "id": "8d8f69bc",
   "metadata": {},
   "outputs": [],
   "source": [
    "#Hiển thị dữ liệu trong test set và dữ liệu dự báo\n",
    "plt.plot(test,'-', markersize=8)\n",
    "plt.plot(predictions,'-', markersize=8)\n",
    "plt.grid(linestyle='--')\n",
    "plt.ylabel('Doanh số ($)',fontsize=12)\n",
    "plt.xlabel('Days',fontsize=12)\n",
    "plt.legend(['Thực tế','Dự báo'])"
   ]
  },
  {
   "cell_type": "code",
   "execution_count": null,
   "id": "6746d08e",
   "metadata": {},
   "outputs": [],
   "source": [
    "model_autoARIMA = auto_arima(train, start_p=0, start_q=0,\n",
    "                      test='adf',       # use adftest to find optimal 'd'\n",
    "                      max_p=3, max_q=5, # maximum p and q\n",
    "                      m=1,              # frequency of series\n",
    "                      d=None,           # let model determine 'd'\n",
    "                      seasonal=False,   # No Seasonality\n",
    "                      start_P=0, \n",
    "                      D=0, \n",
    "                      trace=True,\n",
    "                      error_action='ignore',  \n",
    "                      suppress_warnings=True, \n",
    "                      stepwise=True)\n",
    "print(model_autoARIMA.summary())\n",
    "model_autoARIMA.plot_diagnostics(figsize=(15,8))\n",
    "plt.show()"
   ]
  },
  {
   "cell_type": "code",
   "execution_count": null,
   "id": "ecd5bb97",
   "metadata": {},
   "outputs": [],
   "source": [
    "# Build Model\n",
    "model = ARIMA(train_data, order=(3,1,0))  \n",
    "fitted = model.fit()  \n",
    "print(fitted.summary())"
   ]
  },
  {
   "cell_type": "code",
   "execution_count": null,
   "id": "57c81075",
   "metadata": {},
   "outputs": [],
   "source": [
    "conf"
   ]
  },
  {
   "cell_type": "markdown",
   "id": "8948b035",
   "metadata": {},
   "source": [
    "https://www.analyticsvidhya.com/blog/2021/07/stock-market-forecasting-using-time-series-analysis-with-arima-model/"
   ]
  },
  {
   "cell_type": "code",
   "execution_count": null,
   "id": "f0600751",
   "metadata": {},
   "outputs": [],
   "source": [
    "# report performance\n",
    "mse = mean_squared_error(test_data, fc)\n",
    "print('MSE: '+str(mse))\n",
    "mae = mean_absolute_error(test_data, fc)\n",
    "print('MAE: '+str(mae))\n",
    "rmse = math.sqrt(mean_squared_error(test_data, fc))\n",
    "print('RMSE: '+str(rmse))\n",
    "mape = np.mean(np.abs(fc - test_data)/np.abs(test_data))\n",
    "print('MAPE: '+str(mape))"
   ]
  },
  {
   "cell_type": "markdown",
   "id": "25e411b0",
   "metadata": {},
   "source": [
    "### How to choose p, d, and q for the ARIMA"
   ]
  },
  {
   "cell_type": "code",
   "execution_count": null,
   "id": "74045b13",
   "metadata": {
    "scrolled": true
   },
   "outputs": [],
   "source": [
    "plot_acf(TLS_df) #Hàm vẽ ACF\n",
    "plt.grid(linestyle='-')\n",
    "plt.ylabel('Correlation',fontsize=12)\n",
    "plt.xlabel('Lag-time',fontsize=12)\n",
    "plt.show()"
   ]
  },
  {
   "cell_type": "code",
   "execution_count": null,
   "id": "1f7341a3",
   "metadata": {},
   "outputs": [],
   "source": [
    "f = plt.figure(figsize=(15,7))\n",
    "ax1 = f.add_subplot(121)\n",
    "ax1.set_title('1st Order Differencing')\n",
    "ax1.plot(TLS_df.diff())\n",
    "\n",
    "ax2 = f.add_subplot(122)\n",
    "plot_acf(TLS_df.diff().dropna(), ax=ax2)\n",
    "plt.show()"
   ]
  },
  {
   "cell_type": "code",
   "execution_count": null,
   "id": "d06ee13c",
   "metadata": {},
   "outputs": [],
   "source": [
    "f = plt.figure(figsize=(15,7))\n",
    "ax1 = f.add_subplot(121)\n",
    "ax1.set_title('1st Order Differencing')\n",
    "ax1.plot(TLS_df.diff().diff())\n",
    "\n",
    "ax2 = f.add_subplot(122)\n",
    "plot_acf(TLS_df.diff().diff().dropna(), ax=ax2)\n",
    "plt.show()"
   ]
  },
  {
   "cell_type": "markdown",
   "id": "2c49a5f0",
   "metadata": {},
   "source": [
    "=> p = 1"
   ]
  },
  {
   "cell_type": "code",
   "execution_count": null,
   "id": "b6318b97",
   "metadata": {},
   "outputs": [],
   "source": [
    "result = adfuller(TLS_df.dropna())\n",
    "print('p-value: ', result[1])\n",
    "\n",
    "result = adfuller(TLS_df.diff().dropna())\n",
    "print('p-value: ', result[1])\n",
    "\n",
    "result = adfuller(TLS_df.diff().diff().dropna())\n",
    "print('p-value: ', result[1])"
   ]
  },
  {
   "cell_type": "markdown",
   "id": "e660104f",
   "metadata": {},
   "source": [
    "=> d =1 "
   ]
  },
  {
   "cell_type": "markdown",
   "id": "f26334c1",
   "metadata": {},
   "source": [
    "q=2"
   ]
  },
  {
   "cell_type": "markdown",
   "id": "6f656bd7",
   "metadata": {},
   "source": [
    "### Fit ARIMA model"
   ]
  },
  {
   "cell_type": "code",
   "execution_count": null,
   "id": "74d69ef6",
   "metadata": {},
   "outputs": [],
   "source": [
    "ARIMA_model = ARIMA(TLS_df, order = (1,1,2))\n",
    "model = ARIMA_model.fit()\n",
    "print(model.summary())"
   ]
  },
  {
   "cell_type": "code",
   "execution_count": null,
   "id": "99c1a1d1",
   "metadata": {},
   "outputs": [],
   "source": [
    "fig, ax = plt.subplots()\n",
    "ax = TLS_df.loc['2000':].plot(ax=ax)\n",
    "plot_predict(model, '2016', '2020', ax=ax)\n",
    "plt.show()"
   ]
  },
  {
   "cell_type": "markdown",
   "id": "ce691676",
   "metadata": {},
   "source": [
    "https://www.projectpro.io/article/how-to-build-arima-model-in-python/544#mcetoc_1fp23v670g"
   ]
  },
  {
   "cell_type": "markdown",
   "id": "c78514ff",
   "metadata": {},
   "source": [
    "https://www.kaggle.com/code/prashant111/arima-model-for-time-series-forecasting\n",
    "\n",
    "https://towardsdatascience.com/time-series-forecasting-with-arima-sarima-and-sarimax-ee61099e78f6\n",
    "\n",
    "https://www.datasciencesmachinelearning.com/2019/01/arimasarima-in-python.html"
   ]
  },
  {
   "cell_type": "code",
   "execution_count": null,
   "id": "6da90b91",
   "metadata": {},
   "outputs": [],
   "source": []
  },
  {
   "cell_type": "markdown",
   "id": "b3a903b4",
   "metadata": {},
   "source": [
    "### 5.3. Long Short-Term Memory (LSTM)"
   ]
  },
  {
   "cell_type": "markdown",
   "id": "1281a854",
   "metadata": {},
   "source": [
    "https://www.youtube.com/watch?v=c0k-YLQGKjY"
   ]
  },
  {
   "cell_type": "markdown",
   "id": "e18c1289",
   "metadata": {},
   "source": [
    "### 5.4. Random Forest Classifier (RFC)"
   ]
  },
  {
   "cell_type": "markdown",
   "id": "ea29c621",
   "metadata": {},
   "source": [
    "### Train the initial model\n",
    "\n",
    "Parameters for the RFC model:\n",
    "- **n_estimators**: the number of individual decision trees\n",
    "- **min_samples_split**: this help us protect against overfitting \n",
    "- **random_state**: if we run the same model twice, the random numbers that generated will be in a predictable sequence, which means we'll get the same result"
   ]
  },
  {
   "cell_type": "code",
   "execution_count": 44,
   "id": "7d1be365",
   "metadata": {},
   "outputs": [
    {
     "data": {
      "text/html": [
       "<style>#sk-container-id-1 {color: black;background-color: white;}#sk-container-id-1 pre{padding: 0;}#sk-container-id-1 div.sk-toggleable {background-color: white;}#sk-container-id-1 label.sk-toggleable__label {cursor: pointer;display: block;width: 100%;margin-bottom: 0;padding: 0.3em;box-sizing: border-box;text-align: center;}#sk-container-id-1 label.sk-toggleable__label-arrow:before {content: \"▸\";float: left;margin-right: 0.25em;color: #696969;}#sk-container-id-1 label.sk-toggleable__label-arrow:hover:before {color: black;}#sk-container-id-1 div.sk-estimator:hover label.sk-toggleable__label-arrow:before {color: black;}#sk-container-id-1 div.sk-toggleable__content {max-height: 0;max-width: 0;overflow: hidden;text-align: left;background-color: #f0f8ff;}#sk-container-id-1 div.sk-toggleable__content pre {margin: 0.2em;color: black;border-radius: 0.25em;background-color: #f0f8ff;}#sk-container-id-1 input.sk-toggleable__control:checked~div.sk-toggleable__content {max-height: 200px;max-width: 100%;overflow: auto;}#sk-container-id-1 input.sk-toggleable__control:checked~label.sk-toggleable__label-arrow:before {content: \"▾\";}#sk-container-id-1 div.sk-estimator input.sk-toggleable__control:checked~label.sk-toggleable__label {background-color: #d4ebff;}#sk-container-id-1 div.sk-label input.sk-toggleable__control:checked~label.sk-toggleable__label {background-color: #d4ebff;}#sk-container-id-1 input.sk-hidden--visually {border: 0;clip: rect(1px 1px 1px 1px);clip: rect(1px, 1px, 1px, 1px);height: 1px;margin: -1px;overflow: hidden;padding: 0;position: absolute;width: 1px;}#sk-container-id-1 div.sk-estimator {font-family: monospace;background-color: #f0f8ff;border: 1px dotted black;border-radius: 0.25em;box-sizing: border-box;margin-bottom: 0.5em;}#sk-container-id-1 div.sk-estimator:hover {background-color: #d4ebff;}#sk-container-id-1 div.sk-parallel-item::after {content: \"\";width: 100%;border-bottom: 1px solid gray;flex-grow: 1;}#sk-container-id-1 div.sk-label:hover label.sk-toggleable__label {background-color: #d4ebff;}#sk-container-id-1 div.sk-serial::before {content: \"\";position: absolute;border-left: 1px solid gray;box-sizing: border-box;top: 0;bottom: 0;left: 50%;z-index: 0;}#sk-container-id-1 div.sk-serial {display: flex;flex-direction: column;align-items: center;background-color: white;padding-right: 0.2em;padding-left: 0.2em;position: relative;}#sk-container-id-1 div.sk-item {position: relative;z-index: 1;}#sk-container-id-1 div.sk-parallel {display: flex;align-items: stretch;justify-content: center;background-color: white;position: relative;}#sk-container-id-1 div.sk-item::before, #sk-container-id-1 div.sk-parallel-item::before {content: \"\";position: absolute;border-left: 1px solid gray;box-sizing: border-box;top: 0;bottom: 0;left: 50%;z-index: -1;}#sk-container-id-1 div.sk-parallel-item {display: flex;flex-direction: column;z-index: 1;position: relative;background-color: white;}#sk-container-id-1 div.sk-parallel-item:first-child::after {align-self: flex-end;width: 50%;}#sk-container-id-1 div.sk-parallel-item:last-child::after {align-self: flex-start;width: 50%;}#sk-container-id-1 div.sk-parallel-item:only-child::after {width: 0;}#sk-container-id-1 div.sk-dashed-wrapped {border: 1px dashed gray;margin: 0 0.4em 0.5em 0.4em;box-sizing: border-box;padding-bottom: 0.4em;background-color: white;}#sk-container-id-1 div.sk-label label {font-family: monospace;font-weight: bold;display: inline-block;line-height: 1.2em;}#sk-container-id-1 div.sk-label-container {text-align: center;}#sk-container-id-1 div.sk-container {/* jupyter's `normalize.less` sets `[hidden] { display: none; }` but bootstrap.min.css set `[hidden] { display: none !important; }` so we also need the `!important` here to be able to override the default hidden behavior on the sphinx rendered scikit-learn.org. See: https://github.com/scikit-learn/scikit-learn/issues/21755 */display: inline-block !important;position: relative;}#sk-container-id-1 div.sk-text-repr-fallback {display: none;}</style><div id=\"sk-container-id-1\" class=\"sk-top-container\"><div class=\"sk-text-repr-fallback\"><pre>RandomForestClassifier(min_samples_split=100, random_state=1)</pre><b>In a Jupyter environment, please rerun this cell to show the HTML representation or trust the notebook. <br />On GitHub, the HTML representation is unable to render, please try loading this page with nbviewer.org.</b></div><div class=\"sk-container\" hidden><div class=\"sk-item\"><div class=\"sk-estimator sk-toggleable\"><input class=\"sk-toggleable__control sk-hidden--visually\" id=\"sk-estimator-id-1\" type=\"checkbox\" checked><label for=\"sk-estimator-id-1\" class=\"sk-toggleable__label sk-toggleable__label-arrow\">RandomForestClassifier</label><div class=\"sk-toggleable__content\"><pre>RandomForestClassifier(min_samples_split=100, random_state=1)</pre></div></div></div></div></div>"
      ],
      "text/plain": [
       "RandomForestClassifier(min_samples_split=100, random_state=1)"
      ]
     },
     "execution_count": 44,
     "metadata": {},
     "output_type": "execute_result"
    }
   ],
   "source": [
    "# Training the model\n",
    "RFC_model = RandomForestClassifier(n_estimators = 100, \n",
    "                                   min_samples_split = 100, \n",
    "                                   random_state = 1)\n",
    "\n",
    "# Split train set and test set\n",
    "train = TLS_df.iloc[:-100]\n",
    "test = TLS_df.iloc[-100:]\n",
    "\n",
    "predictors = [\"Close\", \"Volume\", \"Open\", \"High\", \"Low\"]\n",
    "RFC_model.fit(train[predictors], train[\"Target\"])"
   ]
  },
  {
   "cell_type": "code",
   "execution_count": 46,
   "id": "037cd705",
   "metadata": {},
   "outputs": [
    {
     "data": {
      "text/plain": [
       "Date\n",
       "2019-11-08    0\n",
       "2019-11-11    1\n",
       "2019-11-12    1\n",
       "2019-11-13    0\n",
       "2019-11-14    0\n",
       "             ..\n",
       "2020-03-26    0\n",
       "2020-03-27    0\n",
       "2020-03-30    0\n",
       "2020-03-31    0\n",
       "2020-04-01    0\n",
       "Length: 100, dtype: int32"
      ]
     },
     "execution_count": 46,
     "metadata": {},
     "output_type": "execute_result"
    }
   ],
   "source": [
    "# Make prediction\n",
    "preds = RFC_model.predict(test[predictors])\n",
    "\n",
    "# Show prediction\n",
    "preds = pd.Series(preds, index = test.index)\n",
    "preds"
   ]
  },
  {
   "cell_type": "code",
   "execution_count": 47,
   "id": "9be6418e",
   "metadata": {},
   "outputs": [
    {
     "data": {
      "text/plain": [
       "0.40540540540540543"
      ]
     },
     "execution_count": 47,
     "metadata": {},
     "output_type": "execute_result"
    }
   ],
   "source": [
    "# Calculate the precision score\n",
    "precision_score(test[\"Target\"], preds)"
   ]
  },
  {
   "cell_type": "markdown",
   "id": "f29b7420",
   "metadata": {},
   "source": [
    "### Plot prediction"
   ]
  },
  {
   "cell_type": "code",
   "execution_count": 48,
   "id": "fe7e9303",
   "metadata": {},
   "outputs": [
    {
     "data": {
      "text/plain": [
       "<AxesSubplot:xlabel='Date'>"
      ]
     },
     "execution_count": 48,
     "metadata": {},
     "output_type": "execute_result"
    },
    {
     "data": {
      "image/png": "[encoded data removed]",
      "text/plain": [
       "<Figure size 432x288 with 1 Axes>"
      ]
     },
     "metadata": {},
     "output_type": "display_data"
    }
   ],
   "source": [
    "combined = pd.concat([test[\"Target\"], preds], axis=1)\n",
    "combined.plot()"
   ]
  },
  {
   "cell_type": "markdown",
   "id": "34e67e22",
   "metadata": {},
   "source": [
    "### Build backtesting system"
   ]
  },
  {
   "cell_type": "code",
   "execution_count": 49,
   "id": "301e0dbc",
   "metadata": {},
   "outputs": [],
   "source": [
    "def predict(train, test, predictors, model):\n",
    "    model.fit(train[predictors], train[\"Target\"])\n",
    "    preds = model.predict(test[predictors])\n",
    "    preds = pd.Series(preds, index = test.index, name=\"Predictions\")\n",
    "    combined = pd.concat([test[\"Target\"], preds], axis=1)\n",
    "    return combined"
   ]
  },
  {
   "cell_type": "code",
   "execution_count": 58,
   "id": "834eb36f",
   "metadata": {},
   "outputs": [],
   "source": [
    "# take the first 10-year of data and predict values for the 11th year\n",
    "# then take the first 11-year of data and predict values for the 12th year\n",
    "# and so on\n",
    "def backtest(data, model, predictors, start=2500, step=250):\n",
    "    all_predictions = []\n",
    "    \n",
    "    for i in range(start, data.shape[0], step):\n",
    "        train = data.iloc[0:i].copy()\n",
    "        test = data.iloc[i:(i+step)].copy()\n",
    "        predictions = predict(train, test, predictors, model)\n",
    "        all_predictions.append(predictions)\n",
    "    return pd.concat(all_predictions)"
   ]
  },
  {
   "cell_type": "code",
   "execution_count": 59,
   "id": "bbec49b5",
   "metadata": {},
   "outputs": [],
   "source": [
    "predictions = backtest(TLS_df, RFC_model, predictors)"
   ]
  },
  {
   "cell_type": "code",
   "execution_count": 60,
   "id": "89196460",
   "metadata": {},
   "outputs": [
    {
     "data": {
      "text/plain": [
       "0    1634\n",
       "1    1022\n",
       "Name: Predictions, dtype: int64"
      ]
     },
     "execution_count": 60,
     "metadata": {},
     "output_type": "execute_result"
    }
   ],
   "source": [
    "# Count how many price go up and go down\n",
    "predictions[\"Predictions\"].value_counts()"
   ]
  },
  {
   "cell_type": "code",
   "execution_count": 61,
   "id": "fcda7199",
   "metadata": {},
   "outputs": [
    {
     "data": {
      "text/plain": [
       "0.4794520547945205"
      ]
     },
     "execution_count": 61,
     "metadata": {},
     "output_type": "execute_result"
    }
   ],
   "source": [
    "# Calculate the precision score\n",
    "precision_score(predictions[\"Target\"], predictions[\"Predictions\"])"
   ]
  },
  {
   "cell_type": "code",
   "execution_count": 63,
   "id": "18ac2d4f",
   "metadata": {},
   "outputs": [
    {
     "data": {
      "text/plain": [
       "0    0.528991\n",
       "1    0.471009\n",
       "Name: Target, dtype: float64"
      ]
     },
     "execution_count": 63,
     "metadata": {},
     "output_type": "execute_result"
    }
   ],
   "source": [
    "predictions[\"Target\"].value_counts() / predictions.shape[0]"
   ]
  },
  {
   "cell_type": "markdown",
   "id": "7830b4b6",
   "metadata": {},
   "source": [
    "=> this stock will go down 52.8% and go up 47.1%"
   ]
  },
  {
   "cell_type": "markdown",
   "id": "1779dd8f",
   "metadata": {},
   "source": [
    "### Adding additional predictors for the model"
   ]
  },
  {
   "cell_type": "code",
   "execution_count": 65,
   "id": "4d04faf3",
   "metadata": {},
   "outputs": [],
   "source": [
    "horizons = [2,5,60,250,1000]\n",
    "new_predictors = []\n",
    "\n",
    "for horizon in horizons:\n",
    "    rolling_averages = TLS_df.rolling(horizon).mean()\n",
    "    \n",
    "    # The ratio between today's close and the average close in the last 2 (5,60,250,1000) days\n",
    "    ratio_column = f\"Close_Ratio_{horizon}\"\n",
    "    TLS_df[ratio_column] = TLS_df[\"Close\"] / rolling_averages[\"Close\"]\n",
    "    \n",
    "    # The sum of days in the past 2 (5,60,250,1000) days is that the stock price actually went up\n",
    "    trend_column = f\"Trend_{horizon}\"\n",
    "    TLS_df[trend_column] = TLS_df.shift(1).rolling(horizon).sum()[\"Target\"]\n",
    "    \n",
    "    new_predictors += [ratio_column, trend_column]"
   ]
  },
  {
   "cell_type": "code",
   "execution_count": 67,
   "id": "bfa94294",
   "metadata": {},
   "outputs": [],
   "source": [
    "TLS_df = TLS_df.dropna()"
   ]
  },
  {
   "cell_type": "code",
   "execution_count": 68,
   "id": "2ba51e9e",
   "metadata": {},
   "outputs": [
    {
     "data": {
      "text/html": [
       "<div>\n",
       "<style scoped>\n",
       "    .dataframe tbody tr th:only-of-type {\n",
       "        vertical-align: middle;\n",
       "    }\n",
       "\n",
       "    .dataframe tbody tr th {\n",
       "        vertical-align: top;\n",
       "    }\n",
       "\n",
       "    .dataframe thead th {\n",
       "        text-align: right;\n",
       "    }\n",
       "</style>\n",
       "<table border=\"1\" class=\"dataframe\">\n",
       "  <thead>\n",
       "    <tr style=\"text-align: right;\">\n",
       "      <th></th>\n",
       "      <th>Open</th>\n",
       "      <th>High</th>\n",
       "      <th>Low</th>\n",
       "      <th>Close</th>\n",
       "      <th>Volume</th>\n",
       "      <th>Tomorrow</th>\n",
       "      <th>Target</th>\n",
       "      <th>Close_Ratio_2</th>\n",
       "      <th>Trend_2</th>\n",
       "      <th>Close_Ratio_5</th>\n",
       "      <th>Trend_5</th>\n",
       "      <th>Close_Ratio_60</th>\n",
       "      <th>Trend_60</th>\n",
       "      <th>Close_Ratio_250</th>\n",
       "      <th>Trend_250</th>\n",
       "      <th>Close_Ratio_1000</th>\n",
       "      <th>Trend_1000</th>\n",
       "    </tr>\n",
       "    <tr>\n",
       "      <th>Date</th>\n",
       "      <th></th>\n",
       "      <th></th>\n",
       "      <th></th>\n",
       "      <th></th>\n",
       "      <th></th>\n",
       "      <th></th>\n",
       "      <th></th>\n",
       "      <th></th>\n",
       "      <th></th>\n",
       "      <th></th>\n",
       "      <th></th>\n",
       "      <th></th>\n",
       "      <th></th>\n",
       "      <th></th>\n",
       "      <th></th>\n",
       "      <th></th>\n",
       "      <th></th>\n",
       "    </tr>\n",
       "  </thead>\n",
       "  <tbody>\n",
       "    <tr>\n",
       "      <th>2003-11-07</th>\n",
       "      <td>4.02800</td>\n",
       "      <td>4.04489</td>\n",
       "      <td>4.00267</td>\n",
       "      <td>4.01111</td>\n",
       "      <td>9298199.0</td>\n",
       "      <td>4.01111</td>\n",
       "      <td>0</td>\n",
       "      <td>0.998949</td>\n",
       "      <td>1.0</td>\n",
       "      <td>1.000000</td>\n",
       "      <td>3.0</td>\n",
       "      <td>0.979617</td>\n",
       "      <td>27.0</td>\n",
       "      <td>1.054169</td>\n",
       "      <td>117.0</td>\n",
       "      <td>0.848508</td>\n",
       "      <td>434.0</td>\n",
       "    </tr>\n",
       "    <tr>\n",
       "      <th>2003-11-10</th>\n",
       "      <td>4.01111</td>\n",
       "      <td>4.01955</td>\n",
       "      <td>3.98578</td>\n",
       "      <td>4.01111</td>\n",
       "      <td>12680966.0</td>\n",
       "      <td>4.00267</td>\n",
       "      <td>0</td>\n",
       "      <td>1.000000</td>\n",
       "      <td>0.0</td>\n",
       "      <td>1.000422</td>\n",
       "      <td>2.0</td>\n",
       "      <td>0.979550</td>\n",
       "      <td>26.0</td>\n",
       "      <td>1.053879</td>\n",
       "      <td>117.0</td>\n",
       "      <td>0.849000</td>\n",
       "      <td>434.0</td>\n",
       "    </tr>\n",
       "    <tr>\n",
       "      <th>2003-11-11</th>\n",
       "      <td>4.00267</td>\n",
       "      <td>4.01111</td>\n",
       "      <td>3.98578</td>\n",
       "      <td>4.00267</td>\n",
       "      <td>14809248.0</td>\n",
       "      <td>3.98578</td>\n",
       "      <td>0</td>\n",
       "      <td>0.998947</td>\n",
       "      <td>0.0</td>\n",
       "      <td>0.997896</td>\n",
       "      <td>2.0</td>\n",
       "      <td>0.977489</td>\n",
       "      <td>25.0</td>\n",
       "      <td>1.051325</td>\n",
       "      <td>117.0</td>\n",
       "      <td>0.847700</td>\n",
       "      <td>434.0</td>\n",
       "    </tr>\n",
       "    <tr>\n",
       "      <th>2003-11-12</th>\n",
       "      <td>4.00267</td>\n",
       "      <td>4.00267</td>\n",
       "      <td>3.97733</td>\n",
       "      <td>3.98578</td>\n",
       "      <td>16425071.0</td>\n",
       "      <td>4.03644</td>\n",
       "      <td>1</td>\n",
       "      <td>0.997886</td>\n",
       "      <td>0.0</td>\n",
       "      <td>0.994942</td>\n",
       "      <td>1.0</td>\n",
       "      <td>0.973431</td>\n",
       "      <td>25.0</td>\n",
       "      <td>1.046629</td>\n",
       "      <td>116.0</td>\n",
       "      <td>0.844595</td>\n",
       "      <td>434.0</td>\n",
       "    </tr>\n",
       "    <tr>\n",
       "      <th>2003-11-13</th>\n",
       "      <td>4.00267</td>\n",
       "      <td>4.04489</td>\n",
       "      <td>3.99422</td>\n",
       "      <td>4.03644</td>\n",
       "      <td>14789618.0</td>\n",
       "      <td>4.07022</td>\n",
       "      <td>1</td>\n",
       "      <td>1.006315</td>\n",
       "      <td>1.0</td>\n",
       "      <td>1.006739</td>\n",
       "      <td>1.0</td>\n",
       "      <td>0.985566</td>\n",
       "      <td>26.0</td>\n",
       "      <td>1.059688</td>\n",
       "      <td>116.0</td>\n",
       "      <td>0.855815</td>\n",
       "      <td>434.0</td>\n",
       "    </tr>\n",
       "    <tr>\n",
       "      <th>...</th>\n",
       "      <td>...</td>\n",
       "      <td>...</td>\n",
       "      <td>...</td>\n",
       "      <td>...</td>\n",
       "      <td>...</td>\n",
       "      <td>...</td>\n",
       "      <td>...</td>\n",
       "      <td>...</td>\n",
       "      <td>...</td>\n",
       "      <td>...</td>\n",
       "      <td>...</td>\n",
       "      <td>...</td>\n",
       "      <td>...</td>\n",
       "      <td>...</td>\n",
       "      <td>...</td>\n",
       "      <td>...</td>\n",
       "      <td>...</td>\n",
       "    </tr>\n",
       "    <tr>\n",
       "      <th>2020-03-25</th>\n",
       "      <td>3.24000</td>\n",
       "      <td>3.24000</td>\n",
       "      <td>3.07000</td>\n",
       "      <td>3.16000</td>\n",
       "      <td>50508430.0</td>\n",
       "      <td>3.16000</td>\n",
       "      <td>0</td>\n",
       "      <td>1.000000</td>\n",
       "      <td>1.0</td>\n",
       "      <td>1.003175</td>\n",
       "      <td>3.0</td>\n",
       "      <td>0.868967</td>\n",
       "      <td>29.0</td>\n",
       "      <td>0.869790</td>\n",
       "      <td>121.0</td>\n",
       "      <td>0.807360</td>\n",
       "      <td>459.0</td>\n",
       "    </tr>\n",
       "    <tr>\n",
       "      <th>2020-03-26</th>\n",
       "      <td>3.16000</td>\n",
       "      <td>3.22000</td>\n",
       "      <td>3.10000</td>\n",
       "      <td>3.16000</td>\n",
       "      <td>33357849.0</td>\n",
       "      <td>3.04000</td>\n",
       "      <td>0</td>\n",
       "      <td>1.000000</td>\n",
       "      <td>0.0</td>\n",
       "      <td>1.010230</td>\n",
       "      <td>2.0</td>\n",
       "      <td>0.870483</td>\n",
       "      <td>29.0</td>\n",
       "      <td>0.869924</td>\n",
       "      <td>121.0</td>\n",
       "      <td>0.807773</td>\n",
       "      <td>459.0</td>\n",
       "    </tr>\n",
       "    <tr>\n",
       "      <th>2020-03-27</th>\n",
       "      <td>3.20000</td>\n",
       "      <td>3.24000</td>\n",
       "      <td>3.04000</td>\n",
       "      <td>3.04000</td>\n",
       "      <td>48840262.0</td>\n",
       "      <td>3.25000</td>\n",
       "      <td>1</td>\n",
       "      <td>0.980645</td>\n",
       "      <td>0.0</td>\n",
       "      <td>0.973735</td>\n",
       "      <td>2.0</td>\n",
       "      <td>0.839508</td>\n",
       "      <td>28.0</td>\n",
       "      <td>0.837101</td>\n",
       "      <td>121.0</td>\n",
       "      <td>0.777535</td>\n",
       "      <td>458.0</td>\n",
       "    </tr>\n",
       "    <tr>\n",
       "      <th>2020-03-30</th>\n",
       "      <td>3.01000</td>\n",
       "      <td>3.25000</td>\n",
       "      <td>3.01000</td>\n",
       "      <td>3.25000</td>\n",
       "      <td>35604185.0</td>\n",
       "      <td>3.07000</td>\n",
       "      <td>0</td>\n",
       "      <td>1.033386</td>\n",
       "      <td>1.0</td>\n",
       "      <td>1.030438</td>\n",
       "      <td>2.0</td>\n",
       "      <td>0.898907</td>\n",
       "      <td>28.0</td>\n",
       "      <td>0.894986</td>\n",
       "      <td>121.0</td>\n",
       "      <td>0.831689</td>\n",
       "      <td>458.0</td>\n",
       "    </tr>\n",
       "    <tr>\n",
       "      <th>2020-03-31</th>\n",
       "      <td>3.26000</td>\n",
       "      <td>3.30000</td>\n",
       "      <td>3.03000</td>\n",
       "      <td>3.07000</td>\n",
       "      <td>53719209.0</td>\n",
       "      <td>3.20000</td>\n",
       "      <td>1</td>\n",
       "      <td>0.971519</td>\n",
       "      <td>1.0</td>\n",
       "      <td>0.978954</td>\n",
       "      <td>1.0</td>\n",
       "      <td>0.851280</td>\n",
       "      <td>27.0</td>\n",
       "      <td>0.845614</td>\n",
       "      <td>121.0</td>\n",
       "      <td>0.786093</td>\n",
       "      <td>457.0</td>\n",
       "    </tr>\n",
       "  </tbody>\n",
       "</table>\n",
       "<p>4155 rows × 17 columns</p>\n",
       "</div>"
      ],
      "text/plain": [
       "               Open     High      Low    Close      Volume  Tomorrow  Target  \\\n",
       "Date                                                                           \n",
       "2003-11-07  4.02800  4.04489  4.00267  4.01111   9298199.0   4.01111       0   \n",
       "2003-11-10  4.01111  4.01955  3.98578  4.01111  12680966.0   4.00267       0   \n",
       "2003-11-11  4.00267  4.01111  3.98578  4.00267  14809248.0   3.98578       0   \n",
       "2003-11-12  4.00267  4.00267  3.97733  3.98578  16425071.0   4.03644       1   \n",
       "2003-11-13  4.00267  4.04489  3.99422  4.03644  14789618.0   4.07022       1   \n",
       "...             ...      ...      ...      ...         ...       ...     ...   \n",
       "2020-03-25  3.24000  3.24000  3.07000  3.16000  50508430.0   3.16000       0   \n",
       "2020-03-26  3.16000  3.22000  3.10000  3.16000  33357849.0   3.04000       0   \n",
       "2020-03-27  3.20000  3.24000  3.04000  3.04000  48840262.0   3.25000       1   \n",
       "2020-03-30  3.01000  3.25000  3.01000  3.25000  35604185.0   3.07000       0   \n",
       "2020-03-31  3.26000  3.30000  3.03000  3.07000  53719209.0   3.20000       1   \n",
       "\n",
       "            Close_Ratio_2  Trend_2  Close_Ratio_5  Trend_5  Close_Ratio_60  \\\n",
       "Date                                                                         \n",
       "2003-11-07       0.998949      1.0       1.000000      3.0        0.979617   \n",
       "2003-11-10       1.000000      0.0       1.000422      2.0        0.979550   \n",
       "2003-11-11       0.998947      0.0       0.997896      2.0        0.977489   \n",
       "2003-11-12       0.997886      0.0       0.994942      1.0        0.973431   \n",
       "2003-11-13       1.006315      1.0       1.006739      1.0        0.985566   \n",
       "...                   ...      ...            ...      ...             ...   \n",
       "2020-03-25       1.000000      1.0       1.003175      3.0        0.868967   \n",
       "2020-03-26       1.000000      0.0       1.010230      2.0        0.870483   \n",
       "2020-03-27       0.980645      0.0       0.973735      2.0        0.839508   \n",
       "2020-03-30       1.033386      1.0       1.030438      2.0        0.898907   \n",
       "2020-03-31       0.971519      1.0       0.978954      1.0        0.851280   \n",
       "\n",
       "            Trend_60  Close_Ratio_250  Trend_250  Close_Ratio_1000  Trend_1000  \n",
       "Date                                                                            \n",
       "2003-11-07      27.0         1.054169      117.0          0.848508       434.0  \n",
       "2003-11-10      26.0         1.053879      117.0          0.849000       434.0  \n",
       "2003-11-11      25.0         1.051325      117.0          0.847700       434.0  \n",
       "2003-11-12      25.0         1.046629      116.0          0.844595       434.0  \n",
       "2003-11-13      26.0         1.059688      116.0          0.855815       434.0  \n",
       "...              ...              ...        ...               ...         ...  \n",
       "2020-03-25      29.0         0.869790      121.0          0.807360       459.0  \n",
       "2020-03-26      29.0         0.869924      121.0          0.807773       459.0  \n",
       "2020-03-27      28.0         0.837101      121.0          0.777535       458.0  \n",
       "2020-03-30      28.0         0.894986      121.0          0.831689       458.0  \n",
       "2020-03-31      27.0         0.845614      121.0          0.786093       457.0  \n",
       "\n",
       "[4155 rows x 17 columns]"
      ]
     },
     "execution_count": 68,
     "metadata": {},
     "output_type": "execute_result"
    }
   ],
   "source": [
    "TLS_df"
   ]
  },
  {
   "cell_type": "markdown",
   "id": "2048a448",
   "metadata": {},
   "source": [
    "### Improving RFC model"
   ]
  },
  {
   "cell_type": "code",
   "execution_count": 69,
   "id": "734977cb",
   "metadata": {},
   "outputs": [],
   "source": [
    "RFC_model = RandomForestClassifier(n_estimators = 200, \n",
    "                                   min_samples_split = 50, \n",
    "                                   random_state = 1)"
   ]
  },
  {
   "cell_type": "code",
   "execution_count": 70,
   "id": "6ffffb31",
   "metadata": {},
   "outputs": [],
   "source": [
    "def predict(train, test, predictors, model):\n",
    "    model.fit(train[predictors], train[\"Target\"])\n",
    "    preds = model.predict_proba(test[predictors])[:,1]\n",
    "    \n",
    "    # Set the custom threshold\n",
    "    preds[preds >= .6] = 1\n",
    "    preds[preds < .6] = 0\n",
    "    preds = pd.Series(preds, index = test.index, name=\"Predictions\")\n",
    "    combined = pd.concat([test[\"Target\"], preds], axis=1)\n",
    "    return combined"
   ]
  },
  {
   "cell_type": "code",
   "execution_count": 71,
   "id": "bd9c7a01",
   "metadata": {},
   "outputs": [],
   "source": [
    "predictions = backtest(TLS_df, RFC_model, new_predictors)"
   ]
  },
  {
   "cell_type": "code",
   "execution_count": 72,
   "id": "34f0aa6e",
   "metadata": {},
   "outputs": [
    {
     "data": {
      "text/plain": [
       "0.0    1635\n",
       "1.0      20\n",
       "Name: Predictions, dtype: int64"
      ]
     },
     "execution_count": 72,
     "metadata": {},
     "output_type": "execute_result"
    }
   ],
   "source": [
    "predictions[\"Predictions\"].value_counts()"
   ]
  },
  {
   "cell_type": "code",
   "execution_count": 73,
   "id": "1874bdc5",
   "metadata": {},
   "outputs": [
    {
     "data": {
      "text/plain": [
       "0.55"
      ]
     },
     "execution_count": 73,
     "metadata": {},
     "output_type": "execute_result"
    }
   ],
   "source": [
    "# Calculate the precision score\n",
    "precision_score(predictions[\"Target\"], predictions[\"Predictions\"])"
   ]
  },
  {
   "cell_type": "markdown",
   "id": "0c7d233f",
   "metadata": {},
   "source": [
    "## 6. Conclusion"
   ]
  },
  {
   "cell_type": "markdown",
   "id": "1af1b5e9",
   "metadata": {},
   "source": [
    "In the above project, I came up with the following findings:\n",
    "\n",
    "    1. The opening and closing prices of BHP shares were the highest, outperforming other stocks in 20 years.\n",
    "\n",
    "    2. However, the trading volume of TLS stock is considered larger than that of the remaining stocks.\n",
    "\n",
    "    3. The gap between the highest and lowest prices is not much. Although there are a few outliers, they do not have a significant impact. It is noticeable that because BHP shares are highly valued and highly volatile, the split in the highest and lowest prices is wider (about 40 compared to 4-12 for the remaining stocks).\n",
    "\n",
    "    4. For all stocks, the total number of shares traded does not have a hard rule of how to increase or decrease in a particular quarter. For example, stocks may be heavily traded in the third quarter of 2015, but in 2017 the second quarter recorded the highest number of transactions of the year. On the other hand, for 2020, Q1 was recorded as the quarter with the largest total transactions.\n",
    "\n",
    "    5. The same goes for the average closing price of all stocks, which is not known to increase or decrease in any given quarter of the year. Because the price of a stock can change daily and is affected by many different factors."
   ]
  },
  {
   "cell_type": "markdown",
   "id": "d3a8c0df",
   "metadata": {},
   "source": [
    "### References\n",
    "\n",
    "The dataset is collected from source:\n",
    "https://www.kaggle.com/datasets/ashbellett/australian-historical-stock-prices?resource=download\n",
    "\n",
    "PETER ABRAHAMSSON, NIKLAS AHLQVIST. (2022). Evaluation of Machine Learning Methods for Time Series Forecasting on E-Commerce Data. Available: https://www.diva-portal.org/smash/get/diva2:1719774/FULLTEXT01.pdf"
   ]
  },
  {
   "cell_type": "markdown",
   "id": "df2bc914",
   "metadata": {},
   "source": [
    "\n",
    "https://viblo.asia/p/du-doan-gia-co-phieu-va-phan-tich-tinh-hinh-co-phieu-trong-mua-ghen-co-vy-Az45b9jVlxY"
   ]
  },
  {
   "cell_type": "code",
   "execution_count": null,
   "id": "20df4d9d",
   "metadata": {},
   "outputs": [],
   "source": []
  }
 ],
 "metadata": {
  "kernelspec": {
   "display_name": "Python 3 (ipykernel)",
   "language": "python",
   "name": "python3"
  },
  "language_info": {
   "codemirror_mode": {
    "name": "ipython",
    "version": 3
   },
   "file_extension": ".py",
   "mimetype": "text/x-python",
   "name": "python",
   "nbconvert_exporter": "python",
   "pygments_lexer": "ipython3",
   "version": "3.9.7"
  }
 },
 "nbformat": 4,
 "nbformat_minor": 5
}
