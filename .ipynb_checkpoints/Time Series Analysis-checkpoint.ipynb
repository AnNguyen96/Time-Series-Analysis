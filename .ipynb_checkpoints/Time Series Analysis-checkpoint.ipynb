{
 "cells": [
  {
   "cell_type": "markdown",
   "id": "8680adc8",
   "metadata": {},
   "source": [
    "# Australian Stock Prices Prediction\n",
    "\n",
    "### Author: Phuc An Nguyen \n",
    "\n",
    "**August 2023**"
   ]
  },
  {
   "cell_type": "markdown",
   "id": "52a0c4ca",
   "metadata": {},
   "source": [
    "## 1. Introduction\n",
    "\n",
    "Stock market analysis and prediction is an important part of the stock trading and investing process. The benefits from performing this analysis include: Making smart investment decisions, Investment orientation, Understand the business, Risk forecast, Investment strategy orientation and Monitor investment performance.\n",
    "\n",
    "This project will use Descriptive analysis and Exploratory analysis to identify patterns in time series data, like trends, cycles, or seasonal variation as well as highlights the main characteristics of the time series data. Futhermore, I will use the Forecasting model for predicting future data based on the historical data with different types. Then I will evaluate and compare the performance of these models against each other and choose the best model. Finally, I will answer the inspiration questions raised at the beginning of the project."
   ]
  },
  {
   "cell_type": "markdown",
   "id": "b4867be5",
   "metadata": {},
   "source": [
    "### 1.1. Data description \n",
    "\n",
    "This dataset contains historical share price data from the top 100 companies (with 100 different CSV files) listed on the Australian Securities Exchange, each data file contains:\n",
    "- **Date**: date\n",
    "- **Open**: opening price\n",
    "- **High**: high price\n",
    "- **Low**: low price\n",
    "- **Close**: closing price\n",
    "- **Adj Close**: adjusted closing price (including dividends)\n",
    "- **Volume**: trading volume"
   ]
  },
  {
   "cell_type": "markdown",
   "id": "a55cd132",
   "metadata": {},
   "source": [
    "### 1.2. Inspiration questions\n",
    "\n",
    "1. Which stocks have high value, high trading volume and low volatility?\n",
    "2. What periods of the year are stocks most volatile?\n",
    "3. Investors can profit by making smart decisions about buying, selling or holding stocks by predicting stock trends.\n",
    "4. What factors affect the rise or fall of stocks?"
   ]
  },
  {
   "cell_type": "markdown",
   "id": "cb6c0d1b",
   "metadata": {},
   "source": [
    "### 1.3. Import libraries"
   ]
  },
  {
   "cell_type": "code",
   "execution_count": 35,
   "id": "c9f96c6d",
   "metadata": {},
   "outputs": [],
   "source": [
    "# Import libraries\n",
    "import pandas as pd\n",
    "import os\n",
    "\n",
    "import warnings\n",
    "warnings.filterwarnings('ignore')"
   ]
  },
  {
   "cell_type": "markdown",
   "id": "af7b0399",
   "metadata": {},
   "source": [
    "## 2. Read multiple CSV file "
   ]
  },
  {
   "cell_type": "code",
   "execution_count": 2,
   "id": "0643120f",
   "metadata": {},
   "outputs": [],
   "source": [
    "# Set the path to the folder containing the CSV files\n",
    "folder_path = 'dataset'\n",
    "\n",
    "# Create an empty list to store the data from all the CSV files\n",
    "data_frames = []\n",
    "\n",
    "# Create an empty list to store the names of the files\n",
    "file_names = []\n",
    "\n",
    "# Loop through the files in the folder, check if they are CSV files\n",
    "for file_name in os.listdir(folder_path):\n",
    "    if file_name.endswith('.csv'):\n",
    "        file_path = os.path.join(folder_path, file_name)\n",
    "        df = pd.read_csv(file_path)\n",
    "        # Add the name of the file as a new column to the DataFrame\n",
    "        df['Company'] = file_name\n",
    "        data_frames.append(df)\n",
    "        # Store the name of the file in the file_names list\n",
    "        file_names.append(file_name)\n",
    "\n",
    "# After the loop, data_frames will contain all the DataFrames from the CSV files in the folder\n",
    "# file_names will contain the names of all the CSV files in the folder\n",
    "# To combine all the DataFrames into a single DataFrame\n",
    "combined_df = pd.concat(data_frames, ignore_index=True)"
   ]
  },
  {
   "cell_type": "markdown",
   "id": "6d8d26fb",
   "metadata": {},
   "source": [
    "## 3. Exploratory Data Analysis (EDA)"
   ]
  },
  {
   "cell_type": "markdown",
   "id": "87ada2d2",
   "metadata": {},
   "source": [
    "### 3.1. Data Exploration"
   ]
  },
  {
   "cell_type": "code",
   "execution_count": 3,
   "id": "c1a32cb9",
   "metadata": {},
   "outputs": [
    {
     "data": {
      "text/html": [
       "<div>\n",
       "<style scoped>\n",
       "    .dataframe tbody tr th:only-of-type {\n",
       "        vertical-align: middle;\n",
       "    }\n",
       "\n",
       "    .dataframe tbody tr th {\n",
       "        vertical-align: top;\n",
       "    }\n",
       "\n",
       "    .dataframe thead th {\n",
       "        text-align: right;\n",
       "    }\n",
       "</style>\n",
       "<table border=\"1\" class=\"dataframe\">\n",
       "  <thead>\n",
       "    <tr style=\"text-align: right;\">\n",
       "      <th></th>\n",
       "      <th>Date</th>\n",
       "      <th>Open</th>\n",
       "      <th>High</th>\n",
       "      <th>Low</th>\n",
       "      <th>Close</th>\n",
       "      <th>Adj Close</th>\n",
       "      <th>Volume</th>\n",
       "      <th>Company</th>\n",
       "    </tr>\n",
       "  </thead>\n",
       "  <tbody>\n",
       "    <tr>\n",
       "      <th>0</th>\n",
       "      <td>2015-03-31</td>\n",
       "      <td>0.555</td>\n",
       "      <td>0.595</td>\n",
       "      <td>0.530</td>\n",
       "      <td>0.565</td>\n",
       "      <td>0.565</td>\n",
       "      <td>4816294.0</td>\n",
       "      <td>A2M.csv</td>\n",
       "    </tr>\n",
       "    <tr>\n",
       "      <th>1</th>\n",
       "      <td>2015-04-01</td>\n",
       "      <td>0.575</td>\n",
       "      <td>0.580</td>\n",
       "      <td>0.555</td>\n",
       "      <td>0.565</td>\n",
       "      <td>0.565</td>\n",
       "      <td>4376660.0</td>\n",
       "      <td>A2M.csv</td>\n",
       "    </tr>\n",
       "    <tr>\n",
       "      <th>2</th>\n",
       "      <td>2015-04-02</td>\n",
       "      <td>0.560</td>\n",
       "      <td>0.565</td>\n",
       "      <td>0.535</td>\n",
       "      <td>0.555</td>\n",
       "      <td>0.555</td>\n",
       "      <td>2779640.0</td>\n",
       "      <td>A2M.csv</td>\n",
       "    </tr>\n",
       "    <tr>\n",
       "      <th>3</th>\n",
       "      <td>2015-04-07</td>\n",
       "      <td>0.545</td>\n",
       "      <td>0.550</td>\n",
       "      <td>0.540</td>\n",
       "      <td>0.545</td>\n",
       "      <td>0.545</td>\n",
       "      <td>392179.0</td>\n",
       "      <td>A2M.csv</td>\n",
       "    </tr>\n",
       "    <tr>\n",
       "      <th>4</th>\n",
       "      <td>2015-04-08</td>\n",
       "      <td>0.545</td>\n",
       "      <td>0.545</td>\n",
       "      <td>0.530</td>\n",
       "      <td>0.540</td>\n",
       "      <td>0.540</td>\n",
       "      <td>668446.0</td>\n",
       "      <td>A2M.csv</td>\n",
       "    </tr>\n",
       "  </tbody>\n",
       "</table>\n",
       "</div>"
      ],
      "text/plain": [
       "         Date   Open   High    Low  Close  Adj Close     Volume  Company\n",
       "0  2015-03-31  0.555  0.595  0.530  0.565      0.565  4816294.0  A2M.csv\n",
       "1  2015-04-01  0.575  0.580  0.555  0.565      0.565  4376660.0  A2M.csv\n",
       "2  2015-04-02  0.560  0.565  0.535  0.555      0.555  2779640.0  A2M.csv\n",
       "3  2015-04-07  0.545  0.550  0.540  0.545      0.545   392179.0  A2M.csv\n",
       "4  2015-04-08  0.545  0.545  0.530  0.540      0.540   668446.0  A2M.csv"
      ]
     },
     "execution_count": 3,
     "metadata": {},
     "output_type": "execute_result"
    }
   ],
   "source": [
    "combined_df.head()"
   ]
  },
  {
   "cell_type": "code",
   "execution_count": 4,
   "id": "b7e6dbba",
   "metadata": {},
   "outputs": [
    {
     "data": {
      "text/plain": [
       "(432888, 8)"
      ]
     },
     "execution_count": 4,
     "metadata": {},
     "output_type": "execute_result"
    }
   ],
   "source": [
    "# Check dataframe shape\n",
    "combined_df.shape"
   ]
  },
  {
   "cell_type": "code",
   "execution_count": 5,
   "id": "32190b26",
   "metadata": {},
   "outputs": [
    {
     "data": {
      "text/plain": [
       "Date            0\n",
       "Open         1527\n",
       "High         1527\n",
       "Low          1527\n",
       "Close        1527\n",
       "Adj Close    1527\n",
       "Volume       1527\n",
       "Company         0\n",
       "dtype: int64"
      ]
     },
     "execution_count": 5,
     "metadata": {},
     "output_type": "execute_result"
    }
   ],
   "source": [
    "# Check null\n",
    "combined_df.isnull().sum()"
   ]
  },
  {
   "cell_type": "code",
   "execution_count": 6,
   "id": "f8847ab8",
   "metadata": {},
   "outputs": [
    {
     "name": "stdout",
     "output_type": "stream",
     "text": [
      "<class 'pandas.core.frame.DataFrame'>\n",
      "RangeIndex: 432888 entries, 0 to 432887\n",
      "Data columns (total 8 columns):\n",
      " #   Column     Non-Null Count   Dtype  \n",
      "---  ------     --------------   -----  \n",
      " 0   Date       432888 non-null  object \n",
      " 1   Open       431361 non-null  float64\n",
      " 2   High       431361 non-null  float64\n",
      " 3   Low        431361 non-null  float64\n",
      " 4   Close      431361 non-null  float64\n",
      " 5   Adj Close  431361 non-null  float64\n",
      " 6   Volume     431361 non-null  float64\n",
      " 7   Company    432888 non-null  object \n",
      "dtypes: float64(6), object(2)\n",
      "memory usage: 26.4+ MB\n"
     ]
    }
   ],
   "source": [
    "# Check information dataframe\n",
    "combined_df.info()"
   ]
  },
  {
   "cell_type": "code",
   "execution_count": 7,
   "id": "49d22ccf",
   "metadata": {},
   "outputs": [
    {
     "data": {
      "text/html": [
       "<div>\n",
       "<style scoped>\n",
       "    .dataframe tbody tr th:only-of-type {\n",
       "        vertical-align: middle;\n",
       "    }\n",
       "\n",
       "    .dataframe tbody tr th {\n",
       "        vertical-align: top;\n",
       "    }\n",
       "\n",
       "    .dataframe thead th {\n",
       "        text-align: right;\n",
       "    }\n",
       "</style>\n",
       "<table border=\"1\" class=\"dataframe\">\n",
       "  <thead>\n",
       "    <tr style=\"text-align: right;\">\n",
       "      <th></th>\n",
       "      <th>Open</th>\n",
       "      <th>High</th>\n",
       "      <th>Low</th>\n",
       "      <th>Close</th>\n",
       "      <th>Adj Close</th>\n",
       "      <th>Volume</th>\n",
       "    </tr>\n",
       "  </thead>\n",
       "  <tbody>\n",
       "    <tr>\n",
       "      <th>count</th>\n",
       "      <td>431361.000000</td>\n",
       "      <td>431361.000000</td>\n",
       "      <td>431361.000000</td>\n",
       "      <td>431361.000000</td>\n",
       "      <td>431361.000000</td>\n",
       "      <td>4.313610e+05</td>\n",
       "    </tr>\n",
       "    <tr>\n",
       "      <th>mean</th>\n",
       "      <td>13.628159</td>\n",
       "      <td>13.765587</td>\n",
       "      <td>13.486251</td>\n",
       "      <td>13.626580</td>\n",
       "      <td>10.388578</td>\n",
       "      <td>3.646548e+06</td>\n",
       "    </tr>\n",
       "    <tr>\n",
       "      <th>std</th>\n",
       "      <td>19.325604</td>\n",
       "      <td>19.506007</td>\n",
       "      <td>19.140934</td>\n",
       "      <td>19.325726</td>\n",
       "      <td>17.343674</td>\n",
       "      <td>7.011357e+06</td>\n",
       "    </tr>\n",
       "    <tr>\n",
       "      <th>min</th>\n",
       "      <td>0.004000</td>\n",
       "      <td>0.004000</td>\n",
       "      <td>0.004000</td>\n",
       "      <td>0.004000</td>\n",
       "      <td>0.002449</td>\n",
       "      <td>0.000000e+00</td>\n",
       "    </tr>\n",
       "    <tr>\n",
       "      <th>25%</th>\n",
       "      <td>3.490000</td>\n",
       "      <td>3.530730</td>\n",
       "      <td>3.450000</td>\n",
       "      <td>3.490000</td>\n",
       "      <td>2.229591</td>\n",
       "      <td>5.879090e+05</td>\n",
       "    </tr>\n",
       "    <tr>\n",
       "      <th>50%</th>\n",
       "      <td>7.200000</td>\n",
       "      <td>7.275480</td>\n",
       "      <td>7.110000</td>\n",
       "      <td>7.196750</td>\n",
       "      <td>5.001390</td>\n",
       "      <td>1.799148e+06</td>\n",
       "    </tr>\n",
       "    <tr>\n",
       "      <th>75%</th>\n",
       "      <td>15.888700</td>\n",
       "      <td>16.040001</td>\n",
       "      <td>15.698000</td>\n",
       "      <td>15.866700</td>\n",
       "      <td>11.451574</td>\n",
       "      <td>4.207143e+06</td>\n",
       "    </tr>\n",
       "    <tr>\n",
       "      <th>max</th>\n",
       "      <td>339.420013</td>\n",
       "      <td>342.750000</td>\n",
       "      <td>337.029999</td>\n",
       "      <td>341.000000</td>\n",
       "      <td>339.376190</td>\n",
       "      <td>9.930183e+08</td>\n",
       "    </tr>\n",
       "  </tbody>\n",
       "</table>\n",
       "</div>"
      ],
      "text/plain": [
       "                Open           High            Low          Close  \\\n",
       "count  431361.000000  431361.000000  431361.000000  431361.000000   \n",
       "mean       13.628159      13.765587      13.486251      13.626580   \n",
       "std        19.325604      19.506007      19.140934      19.325726   \n",
       "min         0.004000       0.004000       0.004000       0.004000   \n",
       "25%         3.490000       3.530730       3.450000       3.490000   \n",
       "50%         7.200000       7.275480       7.110000       7.196750   \n",
       "75%        15.888700      16.040001      15.698000      15.866700   \n",
       "max       339.420013     342.750000     337.029999     341.000000   \n",
       "\n",
       "           Adj Close        Volume  \n",
       "count  431361.000000  4.313610e+05  \n",
       "mean       10.388578  3.646548e+06  \n",
       "std        17.343674  7.011357e+06  \n",
       "min         0.002449  0.000000e+00  \n",
       "25%         2.229591  5.879090e+05  \n",
       "50%         5.001390  1.799148e+06  \n",
       "75%        11.451574  4.207143e+06  \n",
       "max       339.376190  9.930183e+08  "
      ]
     },
     "execution_count": 7,
     "metadata": {},
     "output_type": "execute_result"
    }
   ],
   "source": [
    "# summarizes dataframe\n",
    "combined_df.describe()"
   ]
  },
  {
   "cell_type": "code",
   "execution_count": 13,
   "id": "4efcac71",
   "metadata": {},
   "outputs": [
    {
     "data": {
      "text/plain": [
       "False"
      ]
     },
     "execution_count": 13,
     "metadata": {},
     "output_type": "execute_result"
    }
   ],
   "source": [
    "# Check negative or zero value\n",
    "(combined_df[['Open','High','Low','Close','Adj Close']].values <= 0).any()"
   ]
  },
  {
   "cell_type": "code",
   "execution_count": null,
   "id": "f5d75044",
   "metadata": {},
   "outputs": [],
   "source": [
    "# Check outlier"
   ]
  },
  {
   "cell_type": "markdown",
   "id": "1bee46ec",
   "metadata": {},
   "source": [
    "### 3.2. Data Wrangling"
   ]
  },
  {
   "cell_type": "markdown",
   "id": "d0ab855a",
   "metadata": {},
   "source": [
    "Removing Rows with Null Values"
   ]
  },
  {
   "cell_type": "code",
   "execution_count": 29,
   "id": "e1942bf2",
   "metadata": {},
   "outputs": [],
   "source": [
    "# Removing all Null rows in dataframe\n",
    "df = combined_df.dropna()"
   ]
  },
  {
   "cell_type": "markdown",
   "id": "60ab9269",
   "metadata": {},
   "source": [
    "Change type Date column"
   ]
  },
  {
   "cell_type": "code",
   "execution_count": 36,
   "id": "4714e7a4",
   "metadata": {},
   "outputs": [],
   "source": [
    "# Change the type of Date column from string to datetime\n",
    "df['Date'] = pd.to_datetime(df['Date'])"
   ]
  },
  {
   "cell_type": "markdown",
   "id": "7738782f",
   "metadata": {},
   "source": [
    "Change Company value"
   ]
  },
  {
   "cell_type": "code",
   "execution_count": 38,
   "id": "7aae6340",
   "metadata": {},
   "outputs": [],
   "source": [
    "# Change the Company name without .csv \n",
    "df['Company'] = df['Company'].str.replace('.csv', '')"
   ]
  },
  {
   "cell_type": "markdown",
   "id": "836039fb",
   "metadata": {},
   "source": [
    "Removing outlier"
   ]
  },
  {
   "cell_type": "code",
   "execution_count": null,
   "id": "41228e0a",
   "metadata": {},
   "outputs": [],
   "source": []
  },
  {
   "cell_type": "markdown",
   "id": "7309916b",
   "metadata": {},
   "source": [
    "Change Date into Weekday and check whether they have weekend "
   ]
  },
  {
   "cell_type": "markdown",
   "id": "05d0ae8e",
   "metadata": {},
   "source": []
  },
  {
   "cell_type": "markdown",
   "id": "ffb97e76",
   "metadata": {},
   "source": []
  },
  {
   "cell_type": "code",
   "execution_count": null,
   "id": "782b0cfe",
   "metadata": {},
   "outputs": [],
   "source": []
  },
  {
   "cell_type": "markdown",
   "id": "34f1c6a2",
   "metadata": {},
   "source": [
    "### 3.3. Data Visualization"
   ]
  },
  {
   "cell_type": "markdown",
   "id": "3f644bf1",
   "metadata": {},
   "source": [
    "Correlation Matrix"
   ]
  },
  {
   "cell_type": "markdown",
   "id": "ad7e9141",
   "metadata": {},
   "source": [
    "Scatterplot"
   ]
  },
  {
   "cell_type": "markdown",
   "id": "90a78916",
   "metadata": {},
   "source": [
    "Histogram"
   ]
  },
  {
   "cell_type": "markdown",
   "id": "66868528",
   "metadata": {},
   "source": [
    "Boxplot"
   ]
  },
  {
   "cell_type": "markdown",
   "id": "b1d936d9",
   "metadata": {},
   "source": [
    "## 4. Methodology"
   ]
  },
  {
   "cell_type": "markdown",
   "id": "3b0aad98",
   "metadata": {},
   "source": [
    "### 4.1. Modelling methods"
   ]
  },
  {
   "cell_type": "markdown",
   "id": "d89562d0",
   "metadata": {},
   "source": [
    "- **Time Series Models** with ARIMA (AutoRegressive Integrated Moving Average) và SARIMA (Seasonal ARIMA)\n",
    "- **Regression Model** with Linear Regression model\n",
    "- **Deep Learning Models** with Long Short-Term Memory (LSTM)\n",
    "- **Ensemble Models** with Gradient Boosting Machines (GBM)"
   ]
  },
  {
   "cell_type": "markdown",
   "id": "a0541617",
   "metadata": {},
   "source": [
    "### 4.2. Model evaluation methods"
   ]
  },
  {
   "cell_type": "markdown",
   "id": "f60862ec",
   "metadata": {},
   "source": []
  },
  {
   "cell_type": "markdown",
   "id": "3de13dd7",
   "metadata": {},
   "source": [
    "### 4.3. Data preparation"
   ]
  },
  {
   "cell_type": "code",
   "execution_count": null,
   "id": "19263b2b",
   "metadata": {},
   "outputs": [],
   "source": []
  },
  {
   "cell_type": "markdown",
   "id": "8209555f",
   "metadata": {},
   "source": [
    "## 5. Model Development "
   ]
  },
  {
   "cell_type": "markdown",
   "id": "b67d3ef0",
   "metadata": {},
   "source": [
    "https://neptune.ai/blog/select-model-for-time-series-prediction-task\n",
    "\n",
    "https://www.diva-portal.org/smash/get/diva2:1719774/FULLTEXT01.pdf"
   ]
  },
  {
   "cell_type": "markdown",
   "id": "8258eb43",
   "metadata": {},
   "source": [
    "### 5.1. ARIMA (AutoRegressive Integrated Moving Average)"
   ]
  },
  {
   "cell_type": "code",
   "execution_count": null,
   "id": "2914315f",
   "metadata": {},
   "outputs": [],
   "source": []
  },
  {
   "cell_type": "markdown",
   "id": "30d47093",
   "metadata": {},
   "source": [
    "### 5.2. SARIMA (Seasonal ARIMA)"
   ]
  },
  {
   "cell_type": "markdown",
   "id": "af69aad8",
   "metadata": {},
   "source": [
    "### 5.3. Linear Regression model"
   ]
  },
  {
   "cell_type": "markdown",
   "id": "b3a903b4",
   "metadata": {},
   "source": [
    "### 5.4. Long Short-Term Memory (LSTM)"
   ]
  },
  {
   "cell_type": "markdown",
   "id": "e18c1289",
   "metadata": {},
   "source": [
    "### 5.5. Gradient Boosting Machines (GBM)"
   ]
  },
  {
   "cell_type": "markdown",
   "id": "60cba23a",
   "metadata": {},
   "source": [
    "## 6. Comparison and Result"
   ]
  },
  {
   "cell_type": "markdown",
   "id": "0c7d233f",
   "metadata": {},
   "source": [
    "## 7. Conclusion"
   ]
  },
  {
   "cell_type": "markdown",
   "id": "1af1b5e9",
   "metadata": {},
   "source": [
    "Trả lời những câu hỏi được nêu trên"
   ]
  },
  {
   "cell_type": "code",
   "execution_count": null,
   "id": "eb8c99a6",
   "metadata": {},
   "outputs": [],
   "source": []
  },
  {
   "cell_type": "code",
   "execution_count": null,
   "id": "89285b94",
   "metadata": {},
   "outputs": [],
   "source": []
  },
  {
   "cell_type": "code",
   "execution_count": null,
   "id": "6da90b91",
   "metadata": {},
   "outputs": [],
   "source": []
  },
  {
   "cell_type": "markdown",
   "id": "d3a8c0df",
   "metadata": {},
   "source": [
    "### References\n",
    "\n",
    "The dataset is collected from source:\n",
    "https://www.kaggle.com/datasets/ashbellett/australian-historical-stock-prices?resource=download"
   ]
  },
  {
   "cell_type": "markdown",
   "id": "df2bc914",
   "metadata": {},
   "source": [
    "https://towardsdatascience.com/an-extensive-guide-to-exploratory-data-analysis-ddd99a03199e\n",
    "\n",
    "https://www.kaggle.com/code/prakharrathi25/exploratory-data-analysis-step-by-step\n"
   ]
  }
 ],
 "metadata": {
  "kernelspec": {
   "display_name": "Python 3 (ipykernel)",
   "language": "python",
   "name": "python3"
  },
  "language_info": {
   "codemirror_mode": {
    "name": "ipython",
    "version": 3
   },
   "file_extension": ".py",
   "mimetype": "text/x-python",
   "name": "python",
   "nbconvert_exporter": "python",
   "pygments_lexer": "ipython3",
   "version": "3.9.7"
  }
 },
 "nbformat": 4,
 "nbformat_minor": 5
}
